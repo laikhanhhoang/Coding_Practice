{
 "cells": [
  {
   "cell_type": "markdown",
   "id": "d47bc540",
   "metadata": {},
   "source": [
    "Implement a last-in-first-out (LIFO) stack using only two queues. The implemented stack should support all the functions of a normal stack (push, top, pop, and empty).\n",
    "\n",
    "Implement the MyStack class:\n",
    "\n",
    "void push(int x) Pushes element x to the top of the stack.\n",
    "int pop() Removes the element on the top of the stack and returns it.\n",
    "int top() Returns the element on the top of the stack.\n",
    "boolean empty() Returns true if the stack is empty, false otherwise.\n",
    "Notes:\n",
    "\n",
    "You must use only standard operations of a queue, which means that only push to back, peek/pop from front, size and is empty operations are valid.\n",
    "Depending on your language, the queue may not be supported natively. You may simulate a queue using a list or deque (double-ended queue) as long as you use only a queue's standard operations."
   ]
  },
  {
   "cell_type": "code",
   "execution_count": 1,
   "id": "0eda78d6",
   "metadata": {},
   "outputs": [],
   "source": [
    "# Stack: Đồ chơi xếp chồng bằng nhựa (Last In, First Out)\n",
    "# Trong đoạn code này, Stack giống như list bình thường nhưng dựng ngược thay vì\n",
    "# nằm ngang như thường. Thằng n-1-th ở trên cao, còn 0-th ở dưới đất.\n",
    "# head là đại diện cho chỉ số thằng trên cao, là n-1-th trong list bình thường\n",
    "# push: tiếp tục gắn lên trên cao\n",
    "# pop: gỡ thằng trên cao ra\n",
    "\n",
    "class MyStack(object):\n",
    "\n",
    "    def __init__(self):\n",
    "        self.stack = []\n",
    "        self.head = -1\n",
    "\n",
    "    def push(self, x):\n",
    "        self.stack.append(x)\n",
    "        self.head += 1\n",
    "\n",
    "    def pop(self):\n",
    "        r = self.stack.pop(self.head) # Trong python, list.pop(k) là xóa phần tử k-th\n",
    "        self.head -= 1\n",
    "        return r\n",
    "\n",
    "    def top(self):\n",
    "        return self.stack[self.head]\n",
    "        \n",
    "\n",
    "    def empty(self):\n",
    "        if self.stack == []:\n",
    "            return True\n",
    "        return False\n",
    "\n",
    "\n",
    "# Your MyStack object will be instantiated and called as such:\n",
    "# obj = MyStack()\n",
    "# obj.push(x)\n",
    "# param_2 = obj.pop()\n",
    "# param_3 = obj.top()"
   ]
  },
  {
   "cell_type": "code",
   "execution_count": null,
   "id": "e730432a",
   "metadata": {},
   "outputs": [],
   "source": []
  }
 ],
 "metadata": {
  "kernelspec": {
   "display_name": "base",
   "language": "python",
   "name": "python3"
  },
  "language_info": {
   "codemirror_mode": {
    "name": "ipython",
    "version": 3
   },
   "file_extension": ".py",
   "mimetype": "text/x-python",
   "name": "python",
   "nbconvert_exporter": "python",
   "pygments_lexer": "ipython3",
   "version": "3.13.5"
  }
 },
 "nbformat": 4,
 "nbformat_minor": 5
}
