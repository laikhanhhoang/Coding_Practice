{
  "nbformat": 4,
  "nbformat_minor": 0,
  "metadata": {
    "colab": {
      "provenance": []
    },
    "kernelspec": {
      "name": "python3",
      "display_name": "Python 3"
    },
    "language_info": {
      "name": "python"
    }
  },
  "cells": [
    {
      "cell_type": "markdown",
      "source": [
        "# Declaration (khai báo) and Instance (biến)"
      ],
      "metadata": {
        "id": "U-ehBIr1XRsb"
      }
    },
    {
      "cell_type": "code",
      "execution_count": 1,
      "metadata": {
        "colab": {
          "base_uri": "https://localhost:8080/"
        },
        "id": "uvUKvEZMTEDo",
        "outputId": "5df722ad-9bea-43c4-c5ed-62fc64c22f0c"
      },
      "outputs": [
        {
          "output_type": "stream",
          "name": "stdout",
          "text": [
            "Whiskers (cat) - Hunger: 6, Energy: 8\n"
          ]
        }
      ],
      "source": [
        "class Pet:\n",
        "    def __init__(self, name: str, species: str, hunger: int, energy: int):\n",
        "        self.name = name\n",
        "        self.species = species\n",
        "        self.hunger = hunger\n",
        "        self.energy = energy\n",
        "\n",
        "# Don't modify the above code\n",
        "\n",
        "# TODO: Create a pet named \"Whiskers\" that is a species of 'cat' with hunger level 6 and energy level 8\n",
        "whiskers = Pet(\"Whiskers\", \"cat\", 6, 8)\n",
        "\n",
        "# Don't modify the following code\n",
        "print(f\"{whiskers.name} ({whiskers.species}) - Hunger: {whiskers.hunger}, Energy: {whiskers.energy}\")\n"
      ]
    },
    {
      "cell_type": "markdown",
      "source": [
        "#"
      ],
      "metadata": {
        "id": "q5i42RseXycF"
      }
    },
    {
      "cell_type": "markdown",
      "source": [
        "# Modifying instance attributes"
      ],
      "metadata": {
        "id": "to1e7I6yX-AK"
      }
    },
    {
      "cell_type": "code",
      "source": [
        "class Pet:\n",
        "    def __init__(self, name: str, species: str, hunger: int, energy: int):\n",
        "        self.name = name\n",
        "        self.species = species\n",
        "        self.hunger = hunger\n",
        "        self.energy = energy\n",
        "\n",
        "whiskers = Pet(\"Whiskers\", \"cat\", 6, 8)\n",
        "\n",
        "# TODO: Print Whiskers' initial attributes\n",
        "print(\"Initial Attributes: {} ({}) - Hunger: {}, Energy: {}\".format(\n",
        "    whiskers.name, whiskers.species, whiskers.hunger, whiskers.energy\n",
        "))\n",
        "# TODO: Modify Whiskers' attributes:\n",
        "#  - Decrease hunger by 3\n",
        "#  - Increase energy by 2\n",
        "whiskers.hunger -= 3\n",
        "whiskers.energy += 2\n",
        "\n",
        "# TODO: Print Whiskers' modified attributes\n",
        "print(\"Modified Attributes: {} ({}) - Hunger: {}, Energy: {}\".format(\n",
        "    whiskers.name, whiskers.species, whiskers.hunger, whiskers.energy\n",
        "))"
      ],
      "metadata": {
        "colab": {
          "base_uri": "https://localhost:8080/"
        },
        "id": "z0QlU0GSTRWB",
        "outputId": "6d226438-07db-425b-eeff-2531c31052e5"
      },
      "execution_count": 2,
      "outputs": [
        {
          "output_type": "stream",
          "name": "stdout",
          "text": [
            "Initial Attributes: Whiskers (cat) - Hunger: 6, Energy: 8\n",
            "Modified Attributes: Whiskers (cat) - Hunger: 3, Energy: 10\n"
          ]
        }
      ]
    },
    {
      "cell_type": "markdown",
      "source": [
        "# Method"
      ],
      "metadata": {
        "id": "dU6UrZ_8YC8w"
      }
    },
    {
      "cell_type": "code",
      "source": [
        "class Pet:\n",
        "    def __init__(self, name: str):\n",
        "        self.name = name\n",
        "        self.hunger = 5\n",
        "\n",
        "    def feed(self):\n",
        "        # TODO: Implement this method\n",
        "        # It should decrease the pet's hunger by 1\n",
        "        # and print a message about feeding the pet\n",
        "        print(\"Fluffy has been fed.\")\n",
        "        self.hunger -= 1\n",
        "        print(\"Fluffy's hunger level:\", self.hunger)\n",
        "        pass\n",
        "\n",
        "# Create a pet\n",
        "my_pet = Pet(\"Fluffy\")\n",
        "\n",
        "# TODO: Feed the pet three times\n",
        "for i in range(3):\n",
        "    my_pet.feed()"
      ],
      "metadata": {
        "colab": {
          "base_uri": "https://localhost:8080/"
        },
        "id": "fsMDXXHFTWWp",
        "outputId": "c1cec136-cc8f-4a64-f527-0a1ea387534a"
      },
      "execution_count": 3,
      "outputs": [
        {
          "output_type": "stream",
          "name": "stdout",
          "text": [
            "Fluffy has been fed.\n",
            "Fluffy's hunger level: 4\n",
            "Fluffy has been fed.\n",
            "Fluffy's hunger level: 3\n",
            "Fluffy has been fed.\n",
            "Fluffy's hunger level: 2\n"
          ]
        }
      ]
    },
    {
      "cell_type": "markdown",
      "source": [
        "# Building function in OOP"
      ],
      "metadata": {
        "id": "uWjTzIaDYEjl"
      }
    },
    {
      "cell_type": "code",
      "source": [
        "class SuperHero:\n",
        "    def __init__(self, name: str, power: str, strength: int):\n",
        "        self.name = name\n",
        "        self.power = power\n",
        "        self.strength = strength\n",
        "\n",
        "    def power_boost(self, strength_increase: int) -> None: # None is similar to void in C++\n",
        "        self.strength += strength_increase\n",
        "        print(f\"{self.name}'s strength increased to {self.strength}!\")\n",
        "\n",
        "\n",
        "\n",
        "# Don't modify the following code\n",
        "ironman = SuperHero(\"Iron Man\", \"Repulsor Beams\", 85)\n",
        "\n",
        "ironman.power_boost(15)"
      ],
      "metadata": {
        "colab": {
          "base_uri": "https://localhost:8080/"
        },
        "id": "Nes-N1KXUQwI",
        "outputId": "a908a340-dfe9-4677-9747-a7c48d489640"
      },
      "execution_count": 4,
      "outputs": [
        {
          "output_type": "stream",
          "name": "stdout",
          "text": [
            "Iron Man's strength increased to 100!\n"
          ]
        }
      ]
    }
  ]
}