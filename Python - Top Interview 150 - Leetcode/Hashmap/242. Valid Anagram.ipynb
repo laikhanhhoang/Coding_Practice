{
 "cells": [
  {
   "cell_type": "markdown",
   "id": "40a950cd",
   "metadata": {},
   "source": [
    "Given two strings s and t, return true if t is an anagram of s, and false otherwise."
   ]
  },
  {
   "cell_type": "code",
   "execution_count": 3,
   "id": "f9e0ac30",
   "metadata": {},
   "outputs": [],
   "source": [
    "class Solution1:\n",
    "    def isAnagram(self, s: str, t: str) -> bool:\n",
    "        s_cnt, t_cnt = Counter(s), Counter(t)\n",
    "        if len(s_cnt) != len(t_cnt): return False\n",
    "        \n",
    "        for k, v in s_cnt.items():\n",
    "            if t_cnt[k] != v: return False\n",
    "        return True"
   ]
  },
  {
   "cell_type": "code",
   "execution_count": 2,
   "id": "055869ba",
   "metadata": {},
   "outputs": [],
   "source": [
    "class Solution:\n",
    "    def isAnagram(self, s: str, t: str) -> bool:\n",
    "        return Counter(s) == Counter(t)"
   ]
  }
 ],
 "metadata": {
  "kernelspec": {
   "display_name": "base",
   "language": "python",
   "name": "python3"
  },
  "language_info": {
   "codemirror_mode": {
    "name": "ipython",
    "version": 3
   },
   "file_extension": ".py",
   "mimetype": "text/x-python",
   "name": "python",
   "nbconvert_exporter": "python",
   "pygments_lexer": "ipython3",
   "version": "3.13.5"
  }
 },
 "nbformat": 4,
 "nbformat_minor": 5
}
