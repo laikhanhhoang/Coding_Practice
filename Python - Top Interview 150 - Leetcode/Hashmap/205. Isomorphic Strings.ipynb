{
 "cells": [
  {
   "cell_type": "markdown",
   "id": "0959c067",
   "metadata": {},
   "source": [
    "Given two strings s and t, determine if they are isomorphic.\n",
    "\n",
    "Two strings s and t are isomorphic if the characters in s can be replaced to get t.\n",
    "\n",
    "All occurrences of a character must be replaced with another character while preserving the order of characters. No two characters may map to the same character, but a character may map to itself."
   ]
  },
  {
   "cell_type": "code",
   "execution_count": 1,
   "id": "1862767f",
   "metadata": {},
   "outputs": [],
   "source": [
    "class Solution1:\n",
    "    def isIsomorphic(self, s: str, t: str) -> bool:\n",
    "        # Giả sử ta có ánh xạ: x -> y thì ở cả hai mảng thì vị trí của chúng trùng nhau\n",
    "        # Do đó ta đi lần lượt từ đầu đến cuối 2 mảng, ghi lại lần đầu tiên mà chữ đó xuất hiện\n",
    "        # Khi đó nếu 2 chữ có cùng value thì có nghĩa chúng map với nhau\n",
    "\n",
    "        ind_s, ind_t = {}, {}\n",
    "        for i in range(len(s)):\n",
    "            if s[i] not in ind_s: ind_s[s[i]] = i\n",
    "            if t[i] not in ind_t: ind_t[t[i]] = i\n",
    "            if ind_s[s[i]] != ind_t[t[i]]: return False\n",
    "\n",
    "        return True"
   ]
  },
  {
   "cell_type": "code",
   "execution_count": null,
   "id": "839f169b",
   "metadata": {},
   "outputs": [],
   "source": [
    "class Solution:\n",
    "    def isIsomorphic(self, s: str, t: str) -> bool:\n",
    "        m = {}\n",
    "        for i in range(len(s)):\n",
    "            if s[i] in m:\n",
    "                if m[s[i]] != t[i]: return False\n",
    "            elif t[i] in m.values(): return False\n",
    "            # Cập nhật    \n",
    "            m[s[i]] = t[i]\n",
    "        return True"
   ]
  }
 ],
 "metadata": {
  "kernelspec": {
   "display_name": "base",
   "language": "python",
   "name": "python3"
  },
  "language_info": {
   "codemirror_mode": {
    "name": "ipython",
    "version": 3
   },
   "file_extension": ".py",
   "mimetype": "text/x-python",
   "name": "python",
   "nbconvert_exporter": "python",
   "pygments_lexer": "ipython3",
   "version": "3.13.5"
  }
 },
 "nbformat": 4,
 "nbformat_minor": 5
}
