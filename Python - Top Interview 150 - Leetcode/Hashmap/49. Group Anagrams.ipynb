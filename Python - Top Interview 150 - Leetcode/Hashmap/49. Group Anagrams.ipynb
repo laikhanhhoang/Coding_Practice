{
 "cells": [
  {
   "cell_type": "markdown",
   "id": "14f9c5c8",
   "metadata": {},
   "source": [
    "Given an array of strings strs, group the anagrams together. You can return the answer in any order."
   ]
  },
  {
   "cell_type": "markdown",
   "id": "e11b016e",
   "metadata": {},
   "source": [
    "Kiến thức: Chỉ số mảng / mảng đếm: nếu muốn so sánh hoặc dùng làm key, phải chuyển về tuple."
   ]
  },
  {
   "cell_type": "markdown",
   "id": "34dcf654",
   "metadata": {},
   "source": [
    "# Tự code"
   ]
  },
  {
   "cell_type": "code",
   "execution_count": 5,
   "id": "6169ed47",
   "metadata": {},
   "outputs": [],
   "source": [
    "from collections import defaultdict\n",
    "from typing import List\n",
    "\n",
    "class Solution:\n",
    "    def groupAnagrams(self, strs: List[str]) -> List[List[str]]:\n",
    "        cnt = [Counter(s) for s in strs]\n",
    "        m = {}\n",
    "\n",
    "        for i in range(len(cnt)):\n",
    "            key = tuple(sorted(cnt[i].items()))   # ✅ hashable\n",
    "            if key not in m: m[key] = []\n",
    "            m[key].append(i)\n",
    "\n",
    "        res = []\n",
    "        for v in m.values():\n",
    "            sub = [strs[i] for i in v]\n",
    "            res.append(sub)\n",
    "        return res"
   ]
  },
  {
   "cell_type": "markdown",
   "id": "bfc89646",
   "metadata": {},
   "source": [
    "# Ánh xạ từ sang một key"
   ]
  },
  {
   "cell_type": "markdown",
   "id": "d7b2db2d",
   "metadata": {},
   "source": [
    "## Cách 1 (Đếm số lượng như trên)"
   ]
  },
  {
   "cell_type": "code",
   "execution_count": null,
   "id": "87e4d020",
   "metadata": {},
   "outputs": [],
   "source": [
    "\n",
    "class Solution:\n",
    "    def groupAnagrams(self, strs: List[str]) -> List[List[str]]:    \n",
    "        ans = defaultdict(list)\n",
    "\n",
    "        for s in strs:\n",
    "            key = [0]*26\n",
    "            for c in s: key[ord(c) - ord(\"a\")] += 1\n",
    "            ans[tuple(key)].append(s)\n",
    "        \n",
    "        return list(ans.values())"
   ]
  },
  {
   "cell_type": "markdown",
   "id": "29001780",
   "metadata": {},
   "source": [
    "# Cách 2 (Duỗi chuỗi đó ra rồi sort -> Chung tập con thì trả về một kết quả)"
   ]
  },
  {
   "cell_type": "code",
   "execution_count": 6,
   "id": "ac1172c7",
   "metadata": {},
   "outputs": [],
   "source": [
    "class Solution:\n",
    "    def groupAnagrams(self, strs: List[str]) -> List[List[str]]:    \n",
    "        ans = defaultdict(list)\n",
    "\n",
    "        for s in strs:\n",
    "            key = \"\".join(sorted(s))\n",
    "            ans[key].append(s)\n",
    "        \n",
    "        return list(ans.values())"
   ]
  }
 ],
 "metadata": {
  "kernelspec": {
   "display_name": "base",
   "language": "python",
   "name": "python3"
  },
  "language_info": {
   "codemirror_mode": {
    "name": "ipython",
    "version": 3
   },
   "file_extension": ".py",
   "mimetype": "text/x-python",
   "name": "python",
   "nbconvert_exporter": "python",
   "pygments_lexer": "ipython3",
   "version": "3.13.5"
  }
 },
 "nbformat": 4,
 "nbformat_minor": 5
}
