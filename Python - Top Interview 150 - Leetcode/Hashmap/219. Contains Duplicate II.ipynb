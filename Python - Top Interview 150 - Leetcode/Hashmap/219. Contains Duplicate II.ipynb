{
 "cells": [
  {
   "cell_type": "markdown",
   "id": "f73987ec",
   "metadata": {},
   "source": [
    "Given an integer array nums and an integer k, return true if there are two distinct indices i and j in the array such that nums[i] == nums[j] and abs(i - j) <= k."
   ]
  },
  {
   "cell_type": "code",
   "execution_count": 2,
   "id": "5a2c1868",
   "metadata": {},
   "outputs": [],
   "source": [
    "from typing import List\n",
    "class Solution:\n",
    "    def containsNearbyDuplicate(self, nums: List[int], k: int) -> bool:\n",
    "        m = {}\n",
    "        for i,n in enumerate(nums):\n",
    "            if (i - m[n] if n in m else k+1) <= k: return True\n",
    "            m[n] = i # m map tới chỉ số cuối cùng của n đã gặp\n",
    "        return False"
   ]
  }
 ],
 "metadata": {
  "kernelspec": {
   "display_name": "base",
   "language": "python",
   "name": "python3"
  },
  "language_info": {
   "codemirror_mode": {
    "name": "ipython",
    "version": 3
   },
   "file_extension": ".py",
   "mimetype": "text/x-python",
   "name": "python",
   "nbconvert_exporter": "python",
   "pygments_lexer": "ipython3",
   "version": "3.13.5"
  }
 },
 "nbformat": 4,
 "nbformat_minor": 5
}
