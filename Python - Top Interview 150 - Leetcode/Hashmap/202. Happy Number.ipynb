{
 "cells": [
  {
   "cell_type": "markdown",
   "id": "57cdd858",
   "metadata": {},
   "source": [
    "Write an algorithm to determine if a number n is happy.\n",
    "\n",
    "A happy number is a number defined by the following process:\n",
    "\n",
    "- Starting with any positive integer, replace the number by the sum of the squares of its digits.\n",
    "- Repeat the process until the number equals 1 (where it will stay), or it loops endlessly in a cycle which does not include 1.\n",
    "- Those numbers for which this process ends in 1 are happy.\n",
    "Return true if n is a happy number, and false if not."
   ]
  },
  {
   "cell_type": "code",
   "execution_count": 1,
   "id": "afbe5810",
   "metadata": {},
   "outputs": [],
   "source": [
    "class Solution:\n",
    "    def next_number(self, n) -> int:\n",
    "        res = 0\n",
    "        while n:\n",
    "            digit = n % 10\n",
    "            res, n = res+digit**2, n//10\n",
    "        return res\n",
    "\n",
    "    def isHappy(self, n: int) -> bool:\n",
    "        curr, after = n,self.next_number(n)\n",
    "        if curr == 1: return True\n",
    "        \n",
    "        while curr != after:\n",
    "            if curr == 7 or after == 1: return True\n",
    "            elif curr < 10: return False\n",
    "            curr, after = after, self.next_number(after)\n",
    "        return False"
   ]
  },
  {
   "cell_type": "code",
   "execution_count": null,
   "id": "a939839e",
   "metadata": {},
   "outputs": [],
   "source": []
  }
 ],
 "metadata": {
  "kernelspec": {
   "display_name": "base",
   "language": "python",
   "name": "python3"
  },
  "language_info": {
   "codemirror_mode": {
    "name": "ipython",
    "version": 3
   },
   "file_extension": ".py",
   "mimetype": "text/x-python",
   "name": "python",
   "nbconvert_exporter": "python",
   "pygments_lexer": "ipython3",
   "version": "3.13.5"
  }
 },
 "nbformat": 4,
 "nbformat_minor": 5
}
