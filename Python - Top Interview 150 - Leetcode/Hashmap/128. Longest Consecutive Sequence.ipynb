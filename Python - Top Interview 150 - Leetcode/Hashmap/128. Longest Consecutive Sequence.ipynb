{
 "cells": [
  {
   "cell_type": "markdown",
   "id": "6ae0dbba",
   "metadata": {},
   "source": [
    "Given an unsorted array of integers nums, return the length of the longest consecutive elements sequence.\n",
    "\n",
    "You must write an algorithm that runs in O(n) time."
   ]
  },
  {
   "cell_type": "code",
   "execution_count": 2,
   "id": "9d3bd763",
   "metadata": {},
   "outputs": [],
   "source": [
    "from typing import List\n",
    "class Solution:\n",
    "    def longestConsecutive(self, nums: List[int]) -> int:\n",
    "        num_set, res = set(nums), 0\n",
    "\n",
    "        for n in num_set:\n",
    "            if n - 1 not in num_set:\n",
    "                now = 1\n",
    "                while n + now in num_set: now += 1\n",
    "                res = max(res, now)\n",
    "        \n",
    "        return res"
   ]
  }
 ],
 "metadata": {
  "kernelspec": {
   "display_name": "base",
   "language": "python",
   "name": "python3"
  },
  "language_info": {
   "codemirror_mode": {
    "name": "ipython",
    "version": 3
   },
   "file_extension": ".py",
   "mimetype": "text/x-python",
   "name": "python",
   "nbconvert_exporter": "python",
   "pygments_lexer": "ipython3",
   "version": "3.13.5"
  }
 },
 "nbformat": 4,
 "nbformat_minor": 5
}
