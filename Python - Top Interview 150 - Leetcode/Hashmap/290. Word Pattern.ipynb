{
 "cells": [
  {
   "cell_type": "markdown",
   "id": "2ffc539f",
   "metadata": {},
   "source": [
    "Given a pattern and a string s, find if s follows the same pattern.\n",
    "\n",
    "Here follow means a full match, such that there is a bijection between a letter in pattern and a non-empty word in s. Specifically:\n",
    "\n",
    "- Each letter in pattern maps to exactly one unique word in s.\n",
    "- Each unique word in s maps to exactly one letter in pattern.\n",
    "- No two letters map to the same word, and no two words map to the same letter."
   ]
  },
  {
   "cell_type": "code",
   "execution_count": 1,
   "id": "caadd2de",
   "metadata": {},
   "outputs": [],
   "source": [
    "class Solution:\n",
    "    def wordPattern(self, p: str, s: str) -> bool:\n",
    "        m, j = {}, 0\n",
    "        for i in range(len(p)):\n",
    "            sub = \"\"\n",
    "            while j < len(s): \n",
    "                if s[j] == \" \": j = j+1; break\n",
    "                sub, j = sub+s[j], j+1\n",
    "            # Có thể dùng words = s.split() để thay thế\n",
    "\n",
    "            if sub == \"\": return False\n",
    "            elif p[i] in m: \n",
    "                if m[p[i]] != sub: return False\n",
    "            elif sub in m.values(): return False\n",
    "\n",
    "            m[p[i]] = sub\n",
    "        \n",
    "        return (False if j < len(s) else True)"
   ]
  }
 ],
 "metadata": {
  "kernelspec": {
   "display_name": "base",
   "language": "python",
   "name": "python3"
  },
  "language_info": {
   "codemirror_mode": {
    "name": "ipython",
    "version": 3
   },
   "file_extension": ".py",
   "mimetype": "text/x-python",
   "name": "python",
   "nbconvert_exporter": "python",
   "pygments_lexer": "ipython3",
   "version": "3.13.5"
  }
 },
 "nbformat": 4,
 "nbformat_minor": 5
}
