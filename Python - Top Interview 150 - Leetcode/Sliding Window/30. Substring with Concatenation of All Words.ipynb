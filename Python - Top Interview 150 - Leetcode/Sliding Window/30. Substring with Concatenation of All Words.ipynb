{
 "cells": [
  {
   "cell_type": "markdown",
   "id": "187b59af",
   "metadata": {},
   "source": [
    "You are given a string s and an array of strings words. All the strings of words are of the same length.\n",
    "\n",
    "A concatenated string is a string that exactly contains all the strings of any permutation of words concatenated.\n",
    "\n",
    "For example, if words = [\"ab\",\"cd\",\"ef\"], then \"abcdef\", \"abefcd\", \"cdabef\", \"cdefab\", \"efabcd\", and \"efcdab\" are all concatenated strings. \"acdbef\" is not a concatenated string because it is not the concatenation of any permutation of words.\n",
    "\n",
    "Return an array of the starting indices of all the concatenated substrings in s. You can return the answer in any order."
   ]
  },
  {
   "cell_type": "markdown",
   "id": "1e71c052",
   "metadata": {},
   "source": [
    "# Solution bị TLE"
   ]
  },
  {
   "cell_type": "code",
   "execution_count": null,
   "id": "2da96188",
   "metadata": {},
   "outputs": [],
   "source": [
    "class Solution:\n",
    "    def findSubstring(self, s: str, w: List[str]) -> List[int]:\n",
    "        res, wdict, wlen, length = [], Counter(w), len(w), len(w[0])\n",
    "\n",
    "        for i in range(len(s)):\n",
    "            wcnt, wused, start = defaultdict(int), 0, i\n",
    "            while start + length <= len(s):\n",
    "                now = s[start:start+length]\n",
    "                if now not in wdict or wcnt[now] >= wdict[now]: \n",
    "                    wcnt.clear()\n",
    "                    break\n",
    "                else:\n",
    "                    wcnt[now], wused = wcnt[now]+1, wused+1\n",
    "                    if wused == wlen: res.append(i); break\n",
    "                    start += length\n",
    "        \n",
    "        return res"
   ]
  },
  {
   "cell_type": "markdown",
   "id": "5e131176",
   "metadata": {},
   "source": [
    "Nhận thấy rằng ta chỉ xét các chỉ số trong modulo length và nhảy các bước nhảy có độ dài bằng length"
   ]
  },
  {
   "cell_type": "code",
   "execution_count": 2,
   "id": "71b2f518",
   "metadata": {},
   "outputs": [],
   "source": [
    "from typing import List\n",
    "from collections import Counter, defaultdict\n",
    "class Solution:\n",
    "    def findSubstring(self, s: str, w: List[str]) -> List[int]:\n",
    "        res, wdict, length, total = [], Counter(w), len(w[0]), len(w)\n",
    "\n",
    "        for i in range(length):\n",
    "            wcnt, wused, start = defaultdict(int), 0, i\n",
    "\n",
    "            for j in range(i, len(s)-length+1, length): # Xét i, i+length, i+2*length,...\n",
    "                word = s[j:j+length]\n",
    "\n",
    "                if word in wdict: \n",
    "                    wcnt[word], wused = wcnt[word]+1, wused+1\n",
    "                    while wcnt[word] > wdict[word]:          # Tiến lên một bước\n",
    "                        wcnt[s[start:start+length]], start, wused = wcnt[s[start:start+length]]-1, start+length, wused-1\n",
    "                    if wused == total: res.append(start)\n",
    "\n",
    "                else: wused, start, wcnt = 0, j+length, defaultdict(int)\n",
    "\n",
    "        return res"
   ]
  },
  {
   "cell_type": "code",
   "execution_count": null,
   "id": "ca5c25d6",
   "metadata": {},
   "outputs": [],
   "source": []
  }
 ],
 "metadata": {
  "kernelspec": {
   "display_name": "base",
   "language": "python",
   "name": "python3"
  },
  "language_info": {
   "codemirror_mode": {
    "name": "ipython",
    "version": 3
   },
   "file_extension": ".py",
   "mimetype": "text/x-python",
   "name": "python",
   "nbconvert_exporter": "python",
   "pygments_lexer": "ipython3",
   "version": "3.13.5"
  }
 },
 "nbformat": 4,
 "nbformat_minor": 5
}
