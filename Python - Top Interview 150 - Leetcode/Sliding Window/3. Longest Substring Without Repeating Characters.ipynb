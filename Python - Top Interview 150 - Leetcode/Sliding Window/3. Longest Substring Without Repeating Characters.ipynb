{
 "cells": [
  {
   "cell_type": "markdown",
   "id": "2ae82229",
   "metadata": {},
   "source": [
    "Given a string s, find the length of the longest substring without duplicate characters.\n",
    "\n"
   ]
  },
  {
   "cell_type": "code",
   "execution_count": 1,
   "id": "3ebd7980",
   "metadata": {},
   "outputs": [],
   "source": [
    "from collections import defaultdict\n",
    "class Solution:\n",
    "    def lengthOfLongestSubstring(self, s: str) -> int:\n",
    "        cnt, left, result = defaultdict(int), 0, 0\n",
    "        for i in range(len(s)):\n",
    "            cnt[s[i]] += 1\n",
    "            if cnt[s[i]] >= 2: \n",
    "                while cnt[s[i]] >= 2:\n",
    "                    cnt[s[left]] -= 1\n",
    "                    left += 1\n",
    "            result = max(result, i-left+1)\n",
    "        return result\n"
   ]
  },
  {
   "cell_type": "code",
   "execution_count": null,
   "id": "8692af10",
   "metadata": {},
   "outputs": [],
   "source": []
  }
 ],
 "metadata": {
  "kernelspec": {
   "display_name": "base",
   "language": "python",
   "name": "python3"
  },
  "language_info": {
   "codemirror_mode": {
    "name": "ipython",
    "version": 3
   },
   "file_extension": ".py",
   "mimetype": "text/x-python",
   "name": "python",
   "nbconvert_exporter": "python",
   "pygments_lexer": "ipython3",
   "version": "3.13.5"
  }
 },
 "nbformat": 4,
 "nbformat_minor": 5
}
