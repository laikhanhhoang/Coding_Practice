{
 "cells": [
  {
   "cell_type": "markdown",
   "id": "b1025e43",
   "metadata": {},
   "source": [
    "Given an array of positive integers nums and a positive integer target, return the minimal length of a subarray whose sum is greater than or equal to target. If there is no such subarray, return 0 instead."
   ]
  },
  {
   "cell_type": "markdown",
   "id": "c101511c",
   "metadata": {},
   "source": [
    "# Tự code (Độ phức tạp O(nlog(n)), n = len(pre))"
   ]
  },
  {
   "cell_type": "code",
   "execution_count": 2,
   "id": "ef2311a1",
   "metadata": {},
   "outputs": [],
   "source": [
    "from typing import List\n",
    "class Solution:\n",
    "    def minSubArrayLen(self, target: int, nums: List[int]) -> int:\n",
    "        pre, res, temp = [0], float('inf'), 0\n",
    "        for num in nums: # O(len(nums))\n",
    "            temp += num\n",
    "            pre.append(temp)\n",
    "\n",
    "        n = len(pre)\n",
    "        for i in range(n-1): # O(n)\n",
    "            l, r, if_i = i+1, n-1, -1\n",
    "            # Đi tìm chỉ số nhỏ nhất sao cho pre[if_i] >= target + pre[i] \n",
    "            # Binary Search -> O(log(n))\n",
    "            while l <= r:  \n",
    "                mid = (l+r)//2\n",
    "                if pre[mid] >= target + pre[i]:\n",
    "                    if_i = mid\n",
    "                    r = mid - 1\n",
    "                else:\n",
    "                    l = mid + 1\n",
    "            if if_i != -1:\n",
    "                res = min(res, if_i - i)\n",
    "        # -> O(nlog(n))\n",
    "\n",
    "        return (0 if res == float('inf') else res)"
   ]
  },
  {
   "cell_type": "markdown",
   "id": "7cc1ae65",
   "metadata": {},
   "source": [
    "# Tham khảo - Sliding window - Độ phức tạp O(n)"
   ]
  },
  {
   "cell_type": "code",
   "execution_count": 3,
   "id": "d9a72cf5",
   "metadata": {},
   "outputs": [],
   "source": [
    "class Solution:\n",
    "    def minSubArrayLen(self, target: int, nums: List[int]) -> int:\n",
    "        result, l, curr_sum = float('inf'), 0, 0\n",
    "        for r, v in enumerate(nums):\n",
    "            curr_sum += v\n",
    "            while curr_sum >= target:\n",
    "                result = min(result, r-l+1)\n",
    "                curr_sum, l = curr_sum - nums[l], l+1\n",
    "        return (0 if result == float('inf') else result)"
   ]
  },
  {
   "cell_type": "markdown",
   "id": "f56fee70",
   "metadata": {},
   "source": []
  }
 ],
 "metadata": {
  "kernelspec": {
   "display_name": "base",
   "language": "python",
   "name": "python3"
  },
  "language_info": {
   "codemirror_mode": {
    "name": "ipython",
    "version": 3
   },
   "file_extension": ".py",
   "mimetype": "text/x-python",
   "name": "python",
   "nbconvert_exporter": "python",
   "pygments_lexer": "ipython3",
   "version": "3.13.5"
  }
 },
 "nbformat": 4,
 "nbformat_minor": 5
}
