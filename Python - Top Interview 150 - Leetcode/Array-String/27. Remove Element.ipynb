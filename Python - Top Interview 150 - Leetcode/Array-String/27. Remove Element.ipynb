{
 "cells": [
  {
   "cell_type": "markdown",
   "id": "33e6d5b1",
   "metadata": {},
   "source": [
    "Given an integer array nums and an integer val, remove all occurrences of val in nums in-place. The order of the elements may be changed. Then return the number of elements in nums which are not equal to val.\n",
    "\n",
    "Consider the number of elements in nums which are not equal to val be k, to get accepted, you need to do the following things:\n",
    "\n",
    "Change the array nums such that the first k elements of nums contain the elements which are not equal to val. The remaining elements of nums are not important as well as the size of nums.\n",
    "Return k."
   ]
  },
  {
   "cell_type": "code",
   "execution_count": 1,
   "id": "b18c211a",
   "metadata": {},
   "outputs": [],
   "source": [
    "class Solution1(object):\n",
    "    def removeElement(self, nums, val):\n",
    "        \"\"\"\n",
    "        :type nums: List[int]\n",
    "        :type val: int\n",
    "        :rtype: int\n",
    "        \"\"\"\n",
    "        k = 0\n",
    "        neqval_ind = []\n",
    "        eqval_ind = []\n",
    "        for i in range(len(nums)):\n",
    "            if nums[i] != val:\n",
    "                k += 1\n",
    "        \n",
    "        for i in range(len(nums)):\n",
    "            if i < k and nums[i] == val:\n",
    "                eqval_ind.append(i)\n",
    "            if i >= k and nums[i] != val:\n",
    "                neqval_ind.append(i)\n",
    "\n",
    "        if len(neqval_ind) == len(eqval_ind):\n",
    "            for i in range(len(eqval_ind)):\n",
    "                nums[eqval_ind[i]] = nums[neqval_ind[i]]\n",
    "\n",
    "        return k\n",
    "        "
   ]
  },
  {
   "cell_type": "code",
   "execution_count": 2,
   "id": "7ee70477",
   "metadata": {},
   "outputs": [],
   "source": [
    "class Solution2(object):\n",
    "    def removeElement(self, nums, val):\n",
    "        \"\"\"\n",
    "        :type nums: List[int]\n",
    "        :type val: int\n",
    "        :rtype: int\n",
    "        \"\"\"\n",
    "        k = 0\n",
    "        for i in range(len(nums)):\n",
    "            if nums[i] != val:\n",
    "                nums[k] = nums[i]\n",
    "                k += 1\n",
    "        return k"
   ]
  }
 ],
 "metadata": {
  "kernelspec": {
   "display_name": "base",
   "language": "python",
   "name": "python3"
  },
  "language_info": {
   "codemirror_mode": {
    "name": "ipython",
    "version": 3
   },
   "file_extension": ".py",
   "mimetype": "text/x-python",
   "name": "python",
   "nbconvert_exporter": "python",
   "pygments_lexer": "ipython3",
   "version": "3.13.5"
  }
 },
 "nbformat": 4,
 "nbformat_minor": 5
}
