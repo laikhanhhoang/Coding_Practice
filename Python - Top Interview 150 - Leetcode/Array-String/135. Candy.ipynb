{
 "cells": [
  {
   "cell_type": "markdown",
   "id": "77b2b3f8",
   "metadata": {},
   "source": [
    "There are n children standing in a line. Each child is assigned a rating value given in the integer array ratings.\n",
    "\n",
    "You are giving candies to these children subjected to the following requirements:\n",
    "\n",
    "- Each child must have at least one candy.\n",
    "- Children with a higher rating get more candies than their neighbors.\n",
    "\n",
    "Return the minimum number of candies you need to have to distribute the candies to the children."
   ]
  },
  {
   "cell_type": "code",
   "execution_count": 2,
   "id": "d64a1661",
   "metadata": {},
   "outputs": [],
   "source": [
    "from typing import List\n",
    "class Solution:\n",
    "    def candy(self, ratings: List[int]) -> int:\n",
    "        n, result, i = len(ratings), len(ratings), 1\n",
    "        \n",
    "        while i < n:\n",
    "            if ratings[i] == ratings[i-1]:\n",
    "                i += 1\n",
    "                continue\n",
    "            \n",
    "            ascend, descend = 0, 0\n",
    "            while i < n and ratings[i] > ratings[i-1]:\n",
    "                i, ascend, result = i + 1, ascend + 1, result + ascend + 1\n",
    "\n",
    "            while i < n and ratings[i] < ratings[i-1]:\n",
    "                i, descend, result = i+1, descend + 1, result + descend + 1\n",
    "\n",
    "            result -= min(ascend, descend)\n",
    "\n",
    "        return result\n",
    "            "
   ]
  },
  {
   "cell_type": "code",
   "execution_count": null,
   "id": "1e4a5cfe",
   "metadata": {},
   "outputs": [],
   "source": []
  }
 ],
 "metadata": {
  "kernelspec": {
   "display_name": "base",
   "language": "python",
   "name": "python3"
  },
  "language_info": {
   "codemirror_mode": {
    "name": "ipython",
    "version": 3
   },
   "file_extension": ".py",
   "mimetype": "text/x-python",
   "name": "python",
   "nbconvert_exporter": "python",
   "pygments_lexer": "ipython3",
   "version": "3.13.5"
  }
 },
 "nbformat": 4,
 "nbformat_minor": 5
}
