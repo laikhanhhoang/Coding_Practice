{
 "cells": [
  {
   "cell_type": "markdown",
   "id": "b5dc7bb6",
   "metadata": {},
   "source": [
    "Write a function to find the longest common prefix string amongst an array of strings.\n",
    "\n",
    "If there is no common prefix, return an empty string \"\"."
   ]
  },
  {
   "cell_type": "markdown",
   "id": "f251f5d3",
   "metadata": {},
   "source": [
    "# 7ms Beats 4.65% (By me)"
   ]
  },
  {
   "cell_type": "code",
   "execution_count": 2,
   "id": "9b9c055c",
   "metadata": {},
   "outputs": [],
   "source": [
    "from typing import List\n",
    "class Solution:\n",
    "    def longestCommonPrefix(self, strs: List[str]) -> str:\n",
    "        n = len(strs)\n",
    "        arr = [{} for _ in range(n)]   # mảng dict, mỗi chuỗi có 1 dict riêng\n",
    "\n",
    "        for i in range(n):\n",
    "            temp = ''\n",
    "            for j in range(len(strs[i])):\n",
    "                temp += strs[i][j]\n",
    "                arr[i][temp] = 1   # lưu lại prefix của strs[i]\n",
    "        \n",
    "        result = \"\"\n",
    "\n",
    "        for k,v in arr[0].items():\n",
    "            check = True\n",
    "            for i in range(1, n):\n",
    "                if k not in arr[i]:\n",
    "                    check = False\n",
    "                    break\n",
    "            if check == True:\n",
    "                result = k\n",
    "        \n",
    "        return result"
   ]
  },
  {
   "cell_type": "markdown",
   "id": "9564b86e",
   "metadata": {},
   "source": [
    "# Tham khảo"
   ]
  },
  {
   "cell_type": "code",
   "execution_count": 3,
   "id": "4df78cd7",
   "metadata": {},
   "outputs": [],
   "source": [
    "class Solution:\n",
    "    def longestCommonPrefix(self, v: List[str]) -> str:\n",
    "        v = sorted(v) # Sắp xếp theo alphabet\n",
    "        result = \"\"\n",
    "\n",
    "        first = v[0]\n",
    "        last = v[-1]\n",
    "        for i in range(min(len(first), len(last))):\n",
    "            if first[i] != last[i]:\n",
    "                return result\n",
    "            else:\n",
    "                result += first[i]\n",
    "\n",
    "        return result\n"
   ]
  },
  {
   "cell_type": "code",
   "execution_count": null,
   "id": "e95dc41e",
   "metadata": {},
   "outputs": [],
   "source": []
  }
 ],
 "metadata": {
  "kernelspec": {
   "display_name": "base",
   "language": "python",
   "name": "python3"
  },
  "language_info": {
   "codemirror_mode": {
    "name": "ipython",
    "version": 3
   },
   "file_extension": ".py",
   "mimetype": "text/x-python",
   "name": "python",
   "nbconvert_exporter": "python",
   "pygments_lexer": "ipython3",
   "version": "3.13.5"
  }
 },
 "nbformat": 4,
 "nbformat_minor": 5
}
