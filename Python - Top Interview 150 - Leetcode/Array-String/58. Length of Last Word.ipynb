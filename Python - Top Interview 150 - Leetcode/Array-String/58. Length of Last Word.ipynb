{
 "cells": [
  {
   "cell_type": "markdown",
   "id": "ff02a088",
   "metadata": {},
   "source": [
    "Given a string s consisting of words and spaces, return the length of the last word in the string.\n",
    "\n",
    "A word is a maximal substring consisting of non-space characters only."
   ]
  },
  {
   "cell_type": "code",
   "execution_count": 1,
   "id": "81774c46",
   "metadata": {},
   "outputs": [],
   "source": [
    "class Solution:\n",
    "    def lengthOfLastWord(self, s: str) -> int:\n",
    "        n = len(s)\n",
    "        start, end = -1, -1\n",
    "\n",
    "        for i in range(n-1, -1, -1):\n",
    "            if s[i] != \" \":\n",
    "                end = i\n",
    "                break\n",
    "\n",
    "        for i in range(end, -1, -1):\n",
    "            if i == 0:\n",
    "                start = 0\n",
    "            else:\n",
    "                if s[i-1] == \" \":\n",
    "                    start = i\n",
    "                    break\n",
    "\n",
    "        return end-start+1\n",
    "        "
   ]
  },
  {
   "cell_type": "code",
   "execution_count": null,
   "id": "5ab799fd",
   "metadata": {},
   "outputs": [],
   "source": []
  }
 ],
 "metadata": {
  "kernelspec": {
   "display_name": "base",
   "language": "python",
   "name": "python3"
  },
  "language_info": {
   "codemirror_mode": {
    "name": "ipython",
    "version": 3
   },
   "file_extension": ".py",
   "mimetype": "text/x-python",
   "name": "python",
   "nbconvert_exporter": "python",
   "pygments_lexer": "ipython3",
   "version": "3.13.5"
  }
 },
 "nbformat": 4,
 "nbformat_minor": 5
}
