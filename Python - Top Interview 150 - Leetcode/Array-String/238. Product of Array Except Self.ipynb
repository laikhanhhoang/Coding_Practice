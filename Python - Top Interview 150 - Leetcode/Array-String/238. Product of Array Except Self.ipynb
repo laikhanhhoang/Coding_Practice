{
 "cells": [
  {
   "cell_type": "markdown",
   "id": "fa80d899",
   "metadata": {},
   "source": [
    "Given an integer array nums, return an array answer such that answer[i] is equal to the product of all the elements of nums except nums[i].\n",
    "\n",
    "The product of any prefix or suffix of nums is guaranteed to fit in a 32-bit integer.\n",
    "\n",
    "You must write an algorithm that runs in O(n) time and without using the division operation."
   ]
  },
  {
   "cell_type": "code",
   "execution_count": 2,
   "id": "1f10da5f",
   "metadata": {},
   "outputs": [],
   "source": [
    "from typing import List\n",
    "__import__(\"atexit\").register(lambda: open(\"display_runtime.txt\", \"w\").write(\"0\"))\n",
    "\n",
    "class Solution:\n",
    "    def productExceptSelf(self, nums: List[int]) -> List[int]:\n",
    "        n = len(nums)\n",
    "        prefix = [1] * n\n",
    "        suffix = [1] * n\n",
    "\n",
    "        temp = 1\n",
    "        for i in range(1, n, 1):\n",
    "            temp = temp * nums[i-1]\n",
    "            prefix[i] = temp\n",
    "\n",
    "        temp = 1\n",
    "        for i in range(n-2, -1, -1):\n",
    "            temp = temp * nums[i+1]\n",
    "            suffix[i] = temp\n",
    "\n",
    "        for i in range(n):\n",
    "            suffix[i] = suffix[i] * prefix[i]\n",
    "\n",
    "        return suffix"
   ]
  },
  {
   "cell_type": "code",
   "execution_count": null,
   "id": "2283c809",
   "metadata": {},
   "outputs": [],
   "source": []
  }
 ],
 "metadata": {
  "kernelspec": {
   "display_name": "base",
   "language": "python",
   "name": "python3"
  },
  "language_info": {
   "codemirror_mode": {
    "name": "ipython",
    "version": 3
   },
   "file_extension": ".py",
   "mimetype": "text/x-python",
   "name": "python",
   "nbconvert_exporter": "python",
   "pygments_lexer": "ipython3",
   "version": "3.13.5"
  }
 },
 "nbformat": 4,
 "nbformat_minor": 5
}
