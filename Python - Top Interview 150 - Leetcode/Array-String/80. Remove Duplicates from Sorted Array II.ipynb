{
 "cells": [
  {
   "cell_type": "markdown",
   "id": "62f5dd90",
   "metadata": {},
   "source": [
    "Given an integer array nums sorted in non-decreasing order, remove some duplicates in-place such that each unique element appears at most twice. The relative order of the elements should be kept the same.\n",
    "\n",
    "Since it is impossible to change the length of the array in some languages, you must instead have the result be placed in the first part of the array nums. More formally, if there are k elements after removing the duplicates, then the first k elements of nums should hold the final result. It does not matter what you leave beyond the first k elements.\n",
    "\n",
    "Return k after placing the final result in the first k slots of nums.\n",
    "\n",
    "Do not allocate extra space for another array. You must do this by modifying the input array in-place with O(1) extra memory."
   ]
  },
  {
   "cell_type": "code",
   "execution_count": 1,
   "id": "6f76da02",
   "metadata": {},
   "outputs": [],
   "source": [
    "class Solution1(object):\n",
    "    def removeDuplicates(self, nums):\n",
    "        \"\"\"\n",
    "        :type nums: List[int]\n",
    "        :rtype: int\n",
    "        \"\"\"\n",
    "        k = 1\n",
    "        count = 1\n",
    "        for i in range(1, len(nums)):\n",
    "            if nums[i] == nums[k-1] and count < 2:\n",
    "                nums[k] = nums[i]\n",
    "                count += 1\n",
    "                k += 1\n",
    "            if nums[i] != nums[k-1]:\n",
    "                nums[k] = nums[i]\n",
    "                count = 1\n",
    "                k += 1\n",
    "        \n",
    "        return k"
   ]
  },
  {
   "cell_type": "code",
   "execution_count": 2,
   "id": "72035c3c",
   "metadata": {},
   "outputs": [],
   "source": [
    "class Solution2(object):\n",
    "    def removeDuplicates(self, nums):\n",
    "        \"\"\"\n",
    "        :type nums: List[int]\n",
    "        :rtype: int\n",
    "        \"\"\"\n",
    "        k = 2\n",
    "        for i in range(2, len(nums)):\n",
    "            if nums[i] != nums[k-2]:\n",
    "                nums[k] = nums[i]\n",
    "                k += 1\n",
    "        return k"
   ]
  }
 ],
 "metadata": {
  "kernelspec": {
   "display_name": "base",
   "language": "python",
   "name": "python3"
  },
  "language_info": {
   "codemirror_mode": {
    "name": "ipython",
    "version": 3
   },
   "file_extension": ".py",
   "mimetype": "text/x-python",
   "name": "python",
   "nbconvert_exporter": "python",
   "pygments_lexer": "ipython3",
   "version": "3.13.5"
  }
 },
 "nbformat": 4,
 "nbformat_minor": 5
}
