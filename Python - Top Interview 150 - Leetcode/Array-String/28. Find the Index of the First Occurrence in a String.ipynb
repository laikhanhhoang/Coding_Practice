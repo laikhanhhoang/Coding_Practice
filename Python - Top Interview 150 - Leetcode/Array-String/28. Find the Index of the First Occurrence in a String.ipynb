{
 "cells": [
  {
   "cell_type": "markdown",
   "id": "44d40996",
   "metadata": {},
   "source": [
    "Given two strings needle and haystack, return the index of the first occurrence of needle in haystack, or -1 if needle is not part of haystack."
   ]
  },
  {
   "cell_type": "markdown",
   "id": "1bf4bad9",
   "metadata": {},
   "source": [
    "# Tự code"
   ]
  },
  {
   "cell_type": "code",
   "execution_count": 1,
   "id": "374402e7",
   "metadata": {},
   "outputs": [],
   "source": [
    "class Solution:\n",
    "    def strStr(self, haystack: str, needle: str) -> int:\n",
    "        if len(haystack) <= len(needle):\n",
    "            if haystack == needle:\n",
    "                return 0\n",
    "            else:\n",
    "                return -1\n",
    "        \n",
    "        if haystack[:len(needle)] == needle:\n",
    "            return 0\n",
    "        else:\n",
    "            ind = self.strStr(haystack[1:], needle)\n",
    "            if ind == -1:\n",
    "                return -1\n",
    "            else:\n",
    "                return 1+ind"
   ]
  },
  {
   "cell_type": "markdown",
   "id": "8e98db72",
   "metadata": {},
   "source": [
    "# Dùng thư viện"
   ]
  },
  {
   "cell_type": "code",
   "execution_count": 2,
   "id": "577115a1",
   "metadata": {},
   "outputs": [],
   "source": [
    "class Solution:\n",
    "    def strStr(self, haystack: str, needle: str) -> int:\n",
    "        return haystack.find(needle)"
   ]
  },
  {
   "cell_type": "markdown",
   "id": "57e99ed3",
   "metadata": {},
   "source": []
  }
 ],
 "metadata": {
  "kernelspec": {
   "display_name": "base",
   "language": "python",
   "name": "python3"
  },
  "language_info": {
   "codemirror_mode": {
    "name": "ipython",
    "version": 3
   },
   "file_extension": ".py",
   "mimetype": "text/x-python",
   "name": "python",
   "nbconvert_exporter": "python",
   "pygments_lexer": "ipython3",
   "version": "3.13.5"
  }
 },
 "nbformat": 4,
 "nbformat_minor": 5
}
