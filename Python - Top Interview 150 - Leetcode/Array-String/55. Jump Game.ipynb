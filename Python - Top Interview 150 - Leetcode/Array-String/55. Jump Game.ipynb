{
 "cells": [
  {
   "cell_type": "markdown",
   "id": "e0e10bfb",
   "metadata": {},
   "source": [
    "You are given an integer array nums. You are initially positioned at the array's first index, and each element in the array represents your maximum jump length at that position.\n",
    "\n",
    "Return true if you can reach the last index, or false otherwise.\n",
    "\n",
    " \n",
    "\n",
    "**Example 1:** Input: nums = [2,3,1,1,4] - Output: true\n",
    "\n",
    "Explanation: Jump 1 step from index 0 to 1, then 3 steps to the last index."
   ]
  },
  {
   "cell_type": "code",
   "execution_count": 1,
   "id": "345ea674",
   "metadata": {},
   "outputs": [],
   "source": [
    "class Solution(object):\n",
    "    def canJump(self, nums):\n",
    "        \"\"\"\n",
    "        :type nums: List[int]\n",
    "        :rtype: bool\n",
    "        \"\"\"\n",
    "        n = len(nums)\n",
    "        if n == 1:\n",
    "            return True\n",
    "        \n",
    "        back = n - 1\n",
    "        for i in range(n-1, -1, -1): \n",
    "            if nums[i] >= back - i:\n",
    "                back = i\n",
    "        \n",
    "        return back == 0"
   ]
  },
  {
   "cell_type": "code",
   "execution_count": null,
   "id": "ec9f6bda",
   "metadata": {},
   "outputs": [],
   "source": []
  }
 ],
 "metadata": {
  "kernelspec": {
   "display_name": "base",
   "language": "python",
   "name": "python3"
  },
  "language_info": {
   "codemirror_mode": {
    "name": "ipython",
    "version": 3
   },
   "file_extension": ".py",
   "mimetype": "text/x-python",
   "name": "python",
   "nbconvert_exporter": "python",
   "pygments_lexer": "ipython3",
   "version": "3.13.5"
  }
 },
 "nbformat": 4,
 "nbformat_minor": 5
}
