{
 "cells": [
  {
   "cell_type": "markdown",
   "id": "61aa72c2",
   "metadata": {},
   "source": [
    "There are n gas stations along a circular route, where the amount of gas at the ith station is gas[i].\n",
    "\n",
    "You have a car with an unlimited gas tank and it costs cost[i] of gas to travel from the ith station to its next (i + 1)th station. You begin the journey with an empty tank at one of the gas stations.\n",
    "\n",
    "Given two integer arrays gas and cost, return the starting gas station's index if you can travel around the circuit once in the clockwise direction, otherwise return -1. If there exists a solution, it is guaranteed to be unique.\n",
    "\n",
    " \n",
    "\n",
    "Example 1:\n",
    "\n",
    "Input: gas = [1,2,3,4,5], cost = [3,4,5,1,2]\n",
    "Output: 3"
   ]
  },
  {
   "cell_type": "code",
   "execution_count": 3,
   "id": "6f4cdb0c",
   "metadata": {},
   "outputs": [],
   "source": [
    "from typing import List\n",
    "\n",
    "class Solution:\n",
    "    def canCompleteCircuit(self, gas: List[int], cost: List[int]) -> int:\n",
    "        remain = [] # Đại diện cho số lượng xăng nếu bắt đầu từ ga thứ i\n",
    "                    # nhận xăng và đi đến ga i+1 thì còn lại bao nhiêu\n",
    "        for i in range(len(gas)):\n",
    "            remain.append(gas[i] - cost[i])\n",
    "\n",
    "        if sum(remain) < 0:  \n",
    "            return -1\n",
    "\n",
    "        result, tank = 0, 0\n",
    "\n",
    "        # Ta giả sử có lời giải. Khi đó, ta cần tìm chỉ số i mà:\n",
    "        # r(i) >= 0\n",
    "        # r(i) + r(i+1) >= 0\n",
    "        # ....\n",
    "        # r(i) + r(i+1) +...+ r(i+n-1) >= 0\n",
    "        # Nếu r(i) < 0, loại. Nếu bắt đầu từ i mà đến j thất bại, nghĩa là\n",
    "        # 0 > r(i) + ... + r(j) >= r(i+1) +...+ r(j) < 0\n",
    "        # Do đó bắt đầu từ i+1,...,j đều thất bại hết, ta có thể không xét đoạn đó\n",
    "        # -> Độ phức tạp chỉ còn O(n)\n",
    "\n",
    "        for i in range(len(remain)):\n",
    "            tank += remain[i]\n",
    "            if tank < 0:\n",
    "                tank, result = 0, i + 1\n",
    "\n",
    "        return result"
   ]
  }
 ],
 "metadata": {
  "kernelspec": {
   "display_name": "base",
   "language": "python",
   "name": "python3"
  },
  "language_info": {
   "codemirror_mode": {
    "name": "ipython",
    "version": 3
   },
   "file_extension": ".py",
   "mimetype": "text/x-python",
   "name": "python",
   "nbconvert_exporter": "python",
   "pygments_lexer": "ipython3",
   "version": "3.13.5"
  }
 },
 "nbformat": 4,
 "nbformat_minor": 5
}
