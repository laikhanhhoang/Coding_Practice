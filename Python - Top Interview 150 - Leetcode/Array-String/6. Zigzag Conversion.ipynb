{
 "cells": [
  {
   "cell_type": "markdown",
   "id": "f8373719",
   "metadata": {},
   "source": [
    "The string \"PAYPALISHIRING\" is written in a zigzag pattern on a given number of rows like this: (you may want to display this pattern in a fixed font for better legibility)\n",
    "\n",
    "P   A   H   N\n",
    "\n",
    "A P L S I I G\n",
    "\n",
    "Y   I   R\n",
    "\n",
    "And then read line by line: \"PAHNAPLSIIGYIR\"\n",
    "\n",
    "Write the code that will take a string and make this conversion given a number of rows:\n",
    "\n",
    "string convert(string s, int numRows);"
   ]
  },
  {
   "cell_type": "markdown",
   "id": "4e6fbaca",
   "metadata": {},
   "source": [
    "# Tự code"
   ]
  },
  {
   "cell_type": "code",
   "execution_count": 2,
   "id": "96d4816a",
   "metadata": {},
   "outputs": [],
   "source": [
    "class Solution:\n",
    "    def convert(self, s: str, n: int) -> str:\n",
    "        if n == 1:\n",
    "            return s\n",
    "        \n",
    "        modulo = 2*(n-1)\n",
    "        row = [\"\"] * n\n",
    "\n",
    "        for i in range(len(s)):\n",
    "            temp = i % modulo\n",
    "            if temp < n:\n",
    "                row[temp] += s[i]\n",
    "            else:\n",
    "                row[modulo - temp] += s[i]\n",
    "\n",
    "        return \"\".join(row)"
   ]
  },
  {
   "cell_type": "code",
   "execution_count": null,
   "id": "3aa07983",
   "metadata": {},
   "outputs": [],
   "source": []
  }
 ],
 "metadata": {
  "kernelspec": {
   "display_name": "base",
   "language": "python",
   "name": "python3"
  },
  "language_info": {
   "codemirror_mode": {
    "name": "ipython",
    "version": 3
   },
   "file_extension": ".py",
   "mimetype": "text/x-python",
   "name": "python",
   "nbconvert_exporter": "python",
   "pygments_lexer": "ipython3",
   "version": "3.13.5"
  }
 },
 "nbformat": 4,
 "nbformat_minor": 5
}
