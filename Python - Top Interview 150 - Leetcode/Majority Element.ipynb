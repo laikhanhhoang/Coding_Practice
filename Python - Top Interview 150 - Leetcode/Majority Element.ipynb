{
 "cells": [
  {
   "cell_type": "markdown",
   "id": "223e3e4d",
   "metadata": {},
   "source": [
    "Given an array nums of size n, return the majority element.\n",
    "\n",
    "The majority element is the element that appears more than ⌊n / 2⌋ times. You may assume that the majority element always exists in the array."
   ]
  },
  {
   "cell_type": "code",
   "execution_count": null,
   "id": "d752b5e8",
   "metadata": {},
   "outputs": [],
   "source": [
    "class Solution1(object):\n",
    "    def majorityElement(self, nums):\n",
    "        \"\"\"\n",
    "        :type nums: List[int]\n",
    "        :rtype: int\n",
    "        \"\"\"\n",
    "        nums.sort() # nlog(n)\n",
    "        n = len(nums)\n",
    "        return nums[n//2]"
   ]
  },
  {
   "cell_type": "code",
   "execution_count": 4,
   "id": "2d99614a",
   "metadata": {},
   "outputs": [],
   "source": [
    "class Solution2(object):\n",
    "    def majorityElement(self, nums):\n",
    "        \"\"\"\n",
    "        :type nums: List[int]\n",
    "        :rtype: int\n",
    "        \"\"\"\n",
    "        m = defaultdict(int) # dùng khi muốn đếm số lần xuất hiện của từng phần tử\n",
    "                             # Vì defaultdict sẽ tự động khởi tạo giá trị mặc định là 0 cho các key chưa tồn tại trong từ điển.\n",
    "        n = len(nums) // 2\n",
    "\n",
    "        for num in nums:\n",
    "            m[num] += 1\n",
    "        \n",
    "        for key, value in m.items():\n",
    "            if value > n:\n",
    "                return key\n",
    "        \n",
    "        return 0"
   ]
  },
  {
   "cell_type": "code",
   "execution_count": 5,
   "id": "0dd449c4",
   "metadata": {},
   "outputs": [],
   "source": [
    "class Solution3(object):\n",
    "    def majorityElement(self, nums):\n",
    "        \"\"\"\n",
    "        :type nums: List[int]\n",
    "        :rtype: int\n",
    "        \"\"\"\n",
    "        count = 0\n",
    "        candidate = None\n",
    "        for num in nums:\n",
    "            if count == 0:\n",
    "                candidate = num\n",
    "            if num == candidate:\n",
    "                count+=1\n",
    "            else:\n",
    "                count-=1\n",
    "        \n",
    "        return candidate"
   ]
  },
  {
   "cell_type": "code",
   "execution_count": null,
   "id": "3fffe334",
   "metadata": {},
   "outputs": [],
   "source": []
  }
 ],
 "metadata": {
  "kernelspec": {
   "display_name": "base",
   "language": "python",
   "name": "python3"
  },
  "language_info": {
   "codemirror_mode": {
    "name": "ipython",
    "version": 3
   },
   "file_extension": ".py",
   "mimetype": "text/x-python",
   "name": "python",
   "nbconvert_exporter": "python",
   "pygments_lexer": "ipython3",
   "version": "3.13.5"
  }
 },
 "nbformat": 4,
 "nbformat_minor": 5
}
