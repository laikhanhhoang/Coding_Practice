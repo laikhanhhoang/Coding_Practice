{
 "cells": [
  {
   "cell_type": "markdown",
   "id": "5aa7665c",
   "metadata": {},
   "source": [
    "ou are given an array of non-overlapping intervals intervals where intervals[i] = [starti, endi] represent the start and the end of the ith interval and intervals is sorted in ascending order by starti. You are also given an interval newInterval = [start, end] that represents the start and end of another interval.\n",
    "\n",
    "Insert newInterval into intervals such that intervals is still sorted in ascending order by starti and intervals still does not have any overlapping intervals (merge overlapping intervals if necessary).\n",
    "\n",
    "Return intervals after the insertion.\n",
    "\n",
    "Note that you don't need to modify intervals in-place. You can make a new array and return it."
   ]
  },
  {
   "cell_type": "code",
   "execution_count": 2,
   "id": "6610a52c",
   "metadata": {},
   "outputs": [],
   "source": [
    "from typing import List\n",
    "class Solution:\n",
    "    def insert(self, intervals: List[List[int]], newInterval: List[int]) -> List[List[int]]:\n",
    "        n, res, i, newinterval = len(intervals), [], 0, newInterval[:] \n",
    "        # newinterval là bản sao\n",
    "\n",
    "        if not intervals: return [newInterval]\n",
    "\n",
    "        while i<n and intervals[i][1] < newInterval[0]:\n",
    "            res.append(intervals[i])\n",
    "            i += 1\n",
    "        \n",
    "        \n",
    "        while i<n and intervals[i][0] <= newinterval[1]:\n",
    "            newinterval = [min(newinterval[0], intervals[i][0]), max(newinterval[1], intervals[i][1])]\n",
    "            i += 1\n",
    "        \n",
    "        res.append(newinterval)\n",
    "        res.extend(intervals[i:]) # Không có ngoặc\n",
    "\n",
    "        return res\n",
    "        "
   ]
  }
 ],
 "metadata": {
  "kernelspec": {
   "display_name": "base",
   "language": "python",
   "name": "python3"
  },
  "language_info": {
   "codemirror_mode": {
    "name": "ipython",
    "version": 3
   },
   "file_extension": ".py",
   "mimetype": "text/x-python",
   "name": "python",
   "nbconvert_exporter": "python",
   "pygments_lexer": "ipython3",
   "version": "3.13.5"
  }
 },
 "nbformat": 4,
 "nbformat_minor": 5
}
