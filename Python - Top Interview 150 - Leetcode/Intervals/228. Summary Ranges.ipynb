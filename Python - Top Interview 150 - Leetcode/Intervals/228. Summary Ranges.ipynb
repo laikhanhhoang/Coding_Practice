{
 "cells": [
  {
   "cell_type": "markdown",
   "id": "f6e3406b",
   "metadata": {},
   "source": [
    "You are given a sorted unique integer array nums.\n",
    "\n",
    "A range [a,b] is the set of all integers from a to b (inclusive).\n",
    "\n",
    "Return the smallest sorted list of ranges that cover all the numbers in the array exactly. That is, each element of nums is covered by exactly one of the ranges, and there is no integer x such that x is in one of the ranges but not in nums.\n",
    "\n",
    "Each range [a,b] in the list should be output as:\n",
    "\n",
    "- \"a->b\" if a != b\n",
    "- \"a\" if a == b"
   ]
  },
  {
   "cell_type": "code",
   "execution_count": 2,
   "id": "63b16862",
   "metadata": {},
   "outputs": [],
   "source": [
    "from typing import List\n",
    "class Solution:\n",
    "    def summaryRanges(self, nums: List[int]) -> List[str]:\n",
    "        if not nums: return [] \n",
    "        start, end, res = nums[0], nums[0], []\n",
    "        for i in range(len(nums)-1):\n",
    "            if nums[i+1] - nums[i] > 1:\n",
    "                res.append(f\"{start}->{end}\" if start != end else f\"{start}\")\n",
    "                start, end = nums[i+1], nums[i+1]\n",
    "            else: end = nums[i+1]\n",
    "        res.append(f\"{start}->{end}\" if start != end else f\"{start}\")\n",
    "        return res\n"
   ]
  }
 ],
 "metadata": {
  "kernelspec": {
   "display_name": "base",
   "language": "python",
   "name": "python3"
  },
  "language_info": {
   "codemirror_mode": {
    "name": "ipython",
    "version": 3
   },
   "file_extension": ".py",
   "mimetype": "text/x-python",
   "name": "python",
   "nbconvert_exporter": "python",
   "pygments_lexer": "ipython3",
   "version": "3.13.5"
  }
 },
 "nbformat": 4,
 "nbformat_minor": 5
}
