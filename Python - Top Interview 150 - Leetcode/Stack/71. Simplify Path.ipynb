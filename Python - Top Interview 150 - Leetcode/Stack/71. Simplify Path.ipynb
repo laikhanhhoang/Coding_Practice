{
 "cells": [
  {
   "cell_type": "markdown",
   "id": "71f2b9c9",
   "metadata": {},
   "source": [
    "You are given an absolute path for a Unix-style file system, which always begins with a slash '/'. Your task is to transform this absolute path into its simplified canonical path.\n",
    "\n",
    "The rules of a Unix-style file system are as follows:\n",
    "\n",
    "- A single period '.' represents the current directory.\n",
    "- A double period '..' represents the previous/parent directory.\n",
    "- Multiple consecutive slashes such as '//' and '///' are treated as a single slash '/'.\n",
    "- Any sequence of periods that does not match the rules above should be treated as a valid directory or file name. For example, '...' and '....' are valid directory or file names.\n",
    "\n",
    "The simplified canonical path should follow these rules:\n",
    "\n",
    "- The path must start with a single slash '/'.\n",
    "- Directories within the path must be separated by exactly one slash '/'.\n",
    "- The path must not end with a slash '/', unless it is the root directory.\n",
    "- The path must not have any single or double periods ('.' and '..') used to denote current or parent directories.\n",
    "\n",
    "Return the simplified canonical path."
   ]
  },
  {
   "cell_type": "code",
   "execution_count": 1,
   "id": "de02be89",
   "metadata": {},
   "outputs": [],
   "source": [
    "from collections import deque\n",
    "\n",
    "class Solution:\n",
    "    def simplifyPath(self, path: str) -> str:\n",
    "        stack, components = deque(), path.split(\"/\")\n",
    "\n",
    "        for c in components:\n",
    "            if c == \"\" or c == \".\": \n",
    "                continue\n",
    "            elif c == \"..\":\n",
    "                if stack: stack.pop()\n",
    "            else: \n",
    "                stack.append(c)\n",
    "\n",
    "        return \"/\" + \"/\".join(stack)"
   ]
  },
  {
   "cell_type": "code",
   "execution_count": null,
   "id": "33997181",
   "metadata": {},
   "outputs": [],
   "source": []
  }
 ],
 "metadata": {
  "kernelspec": {
   "display_name": "base",
   "language": "python",
   "name": "python3"
  },
  "language_info": {
   "codemirror_mode": {
    "name": "ipython",
    "version": 3
   },
   "file_extension": ".py",
   "mimetype": "text/x-python",
   "name": "python",
   "nbconvert_exporter": "python",
   "pygments_lexer": "ipython3",
   "version": "3.13.5"
  }
 },
 "nbformat": 4,
 "nbformat_minor": 5
}
