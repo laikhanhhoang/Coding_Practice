{
 "cells": [
  {
   "cell_type": "markdown",
   "id": "c61f1d1b",
   "metadata": {},
   "source": [
    "Given a string s representing a valid expression, implement a basic calculator to evaluate it, and return the result of the evaluation.\n",
    "\n",
    "**Note:** You are not allowed to use any built-in function which evaluates strings as mathematical expressions, such as eval()."
   ]
  },
  {
   "cell_type": "code",
   "execution_count": 1,
   "id": "6375f727",
   "metadata": {},
   "outputs": [],
   "source": [
    "class Solution:\n",
    "    def calculate(self, s: str) -> int:\n",
    "        s = \"\".join(s.split())\n",
    "        res, num, sign, sign_stack = 0, 0, 1, [1]\n",
    "        # sign_stack lưu lại dấu của môi trường \"()\" hiện tại\n",
    "        # Nếu đang không trong ngoặc, sign = 1\n",
    "\n",
    "        for c in s:\n",
    "            if c.isdigit():\n",
    "                num = num*10 + int(c)\n",
    "            elif c == \"(\":\n",
    "                sign_stack.append(sign)\n",
    "            elif c == \")\":\n",
    "                sign_stack.pop()\n",
    "            elif c in \"+-\":\n",
    "                res += num*sign\n",
    "                num = 0\n",
    "                sign = (1 if c == \"+\" else -1) * sign_stack[-1]\n",
    "            \n",
    "        return (res + num*sign)"
   ]
  }
 ],
 "metadata": {
  "kernelspec": {
   "display_name": "base",
   "language": "python",
   "name": "python3"
  },
  "language_info": {
   "codemirror_mode": {
    "name": "ipython",
    "version": 3
   },
   "file_extension": ".py",
   "mimetype": "text/x-python",
   "name": "python",
   "nbconvert_exporter": "python",
   "pygments_lexer": "ipython3",
   "version": "3.13.5"
  }
 },
 "nbformat": 4,
 "nbformat_minor": 5
}
