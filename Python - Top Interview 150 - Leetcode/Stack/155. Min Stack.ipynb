{
 "cells": [
  {
   "cell_type": "markdown",
   "id": "98dda692",
   "metadata": {},
   "source": [
    "Design a stack that supports push, pop, top, and retrieving the minimum element in constant time.\n",
    "\n",
    "Implement the MinStack class:\n",
    "\n",
    "- MinStack() initializes the stack object.\n",
    "- void push(int val) pushes the element val onto the stack.\n",
    "- void pop() removes the element on the top of the stack.\n",
    "- int top() gets the top element of the stack.\n",
    "- int getMin() retrieves the minimum element in the stack.\n",
    "\n",
    "You must implement a solution with O(1) time complexity for each function."
   ]
  },
  {
   "cell_type": "code",
   "execution_count": 1,
   "id": "02e8caef",
   "metadata": {},
   "outputs": [],
   "source": [
    "from collections import deque\n",
    "class MinStack:\n",
    "    def __init__(self):\n",
    "        self.stack = deque()\n",
    "        self.num_min = deque()\n",
    "\n",
    "    def push(self, val: int) -> None:\n",
    "        self.stack.append(val)\n",
    "\n",
    "        if self.num_min: \n",
    "            self.num_min.append(min(self.num_min[-1], val))\n",
    "        else: \n",
    "            self.num_min.append(val)\n",
    "\n",
    "    def pop(self) -> None:\n",
    "        if self.stack:\n",
    "            self.stack.pop()\n",
    "            self.num_min.pop()\n",
    "\n",
    "    def top(self) -> int:\n",
    "        return self.stack[-1] if self.stack else None\n",
    "\n",
    "    def getMin(self) -> int:\n",
    "        return self.num_min[-1] if self.num_min else None\n",
    "\n",
    "\n",
    "# Your MinStack object will be instantiated and called as such:\n",
    "# obj = MinStack()\n",
    "# obj.push(val)\n",
    "# obj.pop()\n",
    "# param_3 = obj.top()\n",
    "# param_4 = obj.getMin()"
   ]
  },
  {
   "cell_type": "code",
   "execution_count": null,
   "id": "5a1d5567",
   "metadata": {},
   "outputs": [],
   "source": []
  }
 ],
 "metadata": {
  "kernelspec": {
   "display_name": "base",
   "language": "python",
   "name": "python3"
  },
  "language_info": {
   "codemirror_mode": {
    "name": "ipython",
    "version": 3
   },
   "file_extension": ".py",
   "mimetype": "text/x-python",
   "name": "python",
   "nbconvert_exporter": "python",
   "pygments_lexer": "ipython3",
   "version": "3.13.5"
  }
 },
 "nbformat": 4,
 "nbformat_minor": 5
}
