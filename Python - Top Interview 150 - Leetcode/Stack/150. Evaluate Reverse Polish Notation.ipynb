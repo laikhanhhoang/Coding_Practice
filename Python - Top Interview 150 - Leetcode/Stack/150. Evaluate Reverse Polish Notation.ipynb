{
 "cells": [
  {
   "cell_type": "markdown",
   "id": "b36526ee",
   "metadata": {},
   "source": [
    "You are given an array of strings tokens that represents an arithmetic expression in a Reverse Polish Notation.\n",
    "\n",
    "Evaluate the expression. Return an integer that represents the value of the expression.\n",
    "\n",
    "Note that:\n",
    "\n",
    "- The valid operators are '+', '-', '*', and '/'.\n",
    "- Each operand may be an integer or another expression.\n",
    "- The division between two integers always truncates toward zero.\n",
    "- There will not be any division by zero.\n",
    "- The input represents a valid arithmetic expression in a reverse polish notation.\n",
    "- The answer and all the intermediate calculations can be represented in a 32-bit integer."
   ]
  },
  {
   "cell_type": "code",
   "execution_count": 1,
   "id": "32043e7a",
   "metadata": {},
   "outputs": [],
   "source": [
    "from collections import deque\n",
    "from typing import List\n",
    "class Solution:\n",
    "    def is_ope(self, ope: str):\n",
    "        if ope == \"*\" or ope == \"+\" or ope == \"-\" or ope == \"/\": return True\n",
    "        return False\n",
    "\n",
    "    def cal(self, a: int, b: int, ope: str):\n",
    "        if ope == \"*\": res = a*b\n",
    "        elif ope == \"+\": res = a+b\n",
    "        elif ope == \"-\": res = a-b\n",
    "        elif ope == \"/\": res = int(a/b)\n",
    "        return res\n",
    "\n",
    "\n",
    "    def evalRPN(self, tokens: List[str]) -> int:\n",
    "        if len(tokens) == 1: return int(tokens[0])\n",
    "\n",
    "        stack = deque()\n",
    "        for t in tokens:\n",
    "            if not self.is_ope(t):\n",
    "                stack.append(int(t))\n",
    "            else:\n",
    "                b = stack.pop()\n",
    "                a = stack.pop()\n",
    "                res = self.cal(a,b,t)\n",
    "                stack.append(res)\n",
    "\n",
    "        return res"
   ]
  }
 ],
 "metadata": {
  "kernelspec": {
   "display_name": "base",
   "language": "python",
   "name": "python3"
  },
  "language_info": {
   "codemirror_mode": {
    "name": "ipython",
    "version": 3
   },
   "file_extension": ".py",
   "mimetype": "text/x-python",
   "name": "python",
   "nbconvert_exporter": "python",
   "pygments_lexer": "ipython3",
   "version": "3.13.5"
  }
 },
 "nbformat": 4,
 "nbformat_minor": 5
}
