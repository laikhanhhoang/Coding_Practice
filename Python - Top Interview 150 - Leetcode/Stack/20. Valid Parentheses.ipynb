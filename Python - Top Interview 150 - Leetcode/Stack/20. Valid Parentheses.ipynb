{
 "cells": [
  {
   "cell_type": "markdown",
   "id": "3978b212",
   "metadata": {},
   "source": [
    "Given a string s containing just the characters '(', ')', '{', '}', '[' and ']', determine if the input string is valid.\n",
    "\n",
    "An input string is valid if:\n",
    "\n",
    "1. Open brackets must be closed by the same type of brackets.\n",
    "2. Open brackets must be closed in the correct order.\n",
    "3. Every close bracket has a corresponding open bracket of the same type."
   ]
  },
  {
   "cell_type": "code",
   "execution_count": 2,
   "id": "ab676b92",
   "metadata": {},
   "outputs": [],
   "source": [
    "from collections import deque\n",
    "class Solution:\n",
    "    def isValid(self, s: str) -> bool:\n",
    "        stack, m = deque(), {'(': ')', '{':'}', '[':']'}\n",
    "\n",
    "        for i in s:\n",
    "            if stack and i == m.get(stack[-1]): \n",
    "                stack.pop()\n",
    "            else:   \n",
    "                stack.append(i)\n",
    "                \n",
    "        return (not stack)"
   ]
  }
 ],
 "metadata": {
  "kernelspec": {
   "display_name": "base",
   "language": "python",
   "name": "python3"
  },
  "language_info": {
   "codemirror_mode": {
    "name": "ipython",
    "version": 3
   },
   "file_extension": ".py",
   "mimetype": "text/x-python",
   "name": "python",
   "nbconvert_exporter": "python",
   "pygments_lexer": "ipython3",
   "version": "3.13.5"
  }
 },
 "nbformat": 4,
 "nbformat_minor": 5
}
