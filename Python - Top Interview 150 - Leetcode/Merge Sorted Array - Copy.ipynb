{
 "cells": [
  {
   "cell_type": "markdown",
   "id": "d111b776",
   "metadata": {},
   "source": [
    "You are given two integer arrays nums1 and nums2, sorted in non-decreasing order, and two integers m and n, representing the number of elements in nums1 and nums2 respectively.\n",
    "\n",
    "Merge nums1 and nums2 into a single array sorted in non-decreasing order.\n",
    "\n",
    "The final sorted array should not be returned by the function, but instead be stored inside the array nums1. To accommodate this, nums1 has a length of m + n, where the first m elements denote the elements that should be merged, and the last n elements are set to 0 and should be ignored. nums2 has a length of n."
   ]
  },
  {
   "cell_type": "markdown",
   "id": "e9a1da40",
   "metadata": {},
   "source": [
    "# Sort Lib"
   ]
  },
  {
   "cell_type": "code",
   "execution_count": 1,
   "id": "e03755b8",
   "metadata": {},
   "outputs": [],
   "source": [
    "class Solution1(object):\n",
    "    def merge(self, nums1, m, nums2, n):\n",
    "        \"\"\"\n",
    "        :type nums1: List[int]\n",
    "        :type m: int\n",
    "        :type nums2: List[int]\n",
    "        :type n: int\n",
    "        :rtype: None Do not return anything, modify nums1 in-place instead.\n",
    "        \"\"\"\n",
    "        for j in range(n):\n",
    "            nums1[m+j] = nums2[j]\n",
    "        nums1.sort()"
   ]
  },
  {
   "cell_type": "markdown",
   "id": "b9b246af",
   "metadata": {},
   "source": [
    "# Two Pointers"
   ]
  },
  {
   "cell_type": "code",
   "execution_count": null,
   "id": "510785fe",
   "metadata": {},
   "outputs": [
    {
     "name": "stdout",
     "output_type": "stream",
     "text": [
      "[1]\n"
     ]
    }
   ],
   "source": [
    "class Solution(object):\n",
    "    def merge(self, nums1, m, nums2, n):\n",
    "        i = m-1\n",
    "        j = n-1\n",
    "        k = m+n-1\n",
    "\n",
    "        while j >= 0:\n",
    "            if i >= 0 and nums1[i] > nums2[j]:\n",
    "                nums1[k] = nums1[i]\n",
    "                i -= 1\n",
    "            else:\n",
    "                nums1[k] = nums2[j]\n",
    "                j -= 1\n",
    "            k -= 1"
   ]
  }
 ],
 "metadata": {
  "kernelspec": {
   "display_name": "base",
   "language": "python",
   "name": "python3"
  },
  "language_info": {
   "codemirror_mode": {
    "name": "ipython",
    "version": 3
   },
   "file_extension": ".py",
   "mimetype": "text/x-python",
   "name": "python",
   "nbconvert_exporter": "python",
   "pygments_lexer": "ipython3",
   "version": "3.13.5"
  }
 },
 "nbformat": 4,
 "nbformat_minor": 5
}
