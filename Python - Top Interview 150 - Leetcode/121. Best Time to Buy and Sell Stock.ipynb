{
 "cells": [
  {
   "cell_type": "markdown",
   "id": "88e893dc",
   "metadata": {},
   "source": [
    "You are given an array prices where prices[i] is the price of a given stock on the ith day.\n",
    "\n",
    "You want to maximize your profit by choosing a single day to buy one stock and choosing a different day in the future to sell that stock.\n",
    "\n",
    "Return the maximum profit you can achieve from this transaction. If you cannot achieve any profit, return 0.\n",
    "\n",
    " \n",
    "\n",
    "Example 1:\n",
    "\n",
    "Input: prices = [7,1,5,3,6,4]\n",
    "Output: 5"
   ]
  },
  {
   "cell_type": "markdown",
   "id": "8239fab7",
   "metadata": {},
   "source": [
    "# Sol bị TLE"
   ]
  },
  {
   "cell_type": "code",
   "execution_count": null,
   "id": "1ca3f406",
   "metadata": {},
   "outputs": [],
   "source": [
    "class Solution(object):\n",
    "    def maxProfit(self, prices):\n",
    "        \"\"\"\n",
    "        :type prices: List[int]\n",
    "        :rtype: int\n",
    "        \"\"\"\n",
    "        M = -1\n",
    "        for i in range(len(prices)):\n",
    "            M = max(M, max(prices[i:]) - prices[i])\n",
    "        \n",
    "        if M < 0:\n",
    "            return 0\n",
    "        else:\n",
    "            return M"
   ]
  },
  {
   "cell_type": "markdown",
   "id": "829b0e1b",
   "metadata": {},
   "source": [
    "# Sol 2"
   ]
  },
  {
   "cell_type": "code",
   "execution_count": 1,
   "id": "e6ab5f77",
   "metadata": {},
   "outputs": [],
   "source": [
    "class Solution(object):\n",
    "    def maxProfit(self, prices):\n",
    "        \"\"\"\n",
    "        :type prices: List[int]\n",
    "        :rtype: int\n",
    "        \"\"\"\n",
    "        # Ta giả sử rằng ta đã mua hàng vào ngày nào đó trong quá khứ\n",
    "        # với mỗi ngày ta tính lợi nhuận dựa trên giả sử tốt nhất\n",
    "\n",
    "        min_price = float('inf')\n",
    "        max_profit = 0\n",
    "\n",
    "        for p in prices:\n",
    "            min_price = min(p, min_price)\n",
    "            max_profit = max(max_profit, p - min_price)\n",
    "\n",
    "        return max_profit"
   ]
  },
  {
   "cell_type": "markdown",
   "id": "446f7a54",
   "metadata": {},
   "source": [
    "# Không gọi hàm max thì sẽ nhanh hơn"
   ]
  },
  {
   "cell_type": "code",
   "execution_count": 2,
   "id": "a09197dd",
   "metadata": {},
   "outputs": [],
   "source": [
    "class Solution:\n",
    "    def maxProfit(self, prices):\n",
    "        buy = prices[0]\n",
    "        profit = 0\n",
    "        for i in range(1, len(prices)):\n",
    "            if prices[i] < buy:\n",
    "                buy = prices[i]\n",
    "            if prices[i] - buy > profit:\n",
    "                profit = prices[i] - buy\n",
    "        return profit"
   ]
  },
  {
   "cell_type": "code",
   "execution_count": null,
   "id": "a862c8b6",
   "metadata": {},
   "outputs": [],
   "source": []
  }
 ],
 "metadata": {
  "kernelspec": {
   "display_name": "base",
   "language": "python",
   "name": "python3"
  },
  "language_info": {
   "codemirror_mode": {
    "name": "ipython",
    "version": 3
   },
   "file_extension": ".py",
   "mimetype": "text/x-python",
   "name": "python",
   "nbconvert_exporter": "python",
   "pygments_lexer": "ipython3",
   "version": "3.13.5"
  }
 },
 "nbformat": 4,
 "nbformat_minor": 5
}
