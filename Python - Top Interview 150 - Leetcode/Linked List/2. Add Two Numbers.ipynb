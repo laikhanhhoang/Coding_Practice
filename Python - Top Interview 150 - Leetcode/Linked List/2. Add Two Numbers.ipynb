{
 "cells": [
  {
   "cell_type": "markdown",
   "id": "f32bac17",
   "metadata": {},
   "source": [
    "You are given two non-empty linked lists representing two non-negative integers. The digits are stored in reverse order, and each of their nodes contains a single digit. Add the two numbers and return the sum as a linked list.\n",
    "\n",
    "You may assume the two numbers do not contain any leading zero, except the number 0 itself."
   ]
  },
  {
   "cell_type": "code",
   "execution_count": 2,
   "id": "f02edf4f",
   "metadata": {},
   "outputs": [],
   "source": [
    "from typing import Optional\n",
    "\n",
    "# Definition for singly-linked list.\n",
    "class ListNode:\n",
    "    def __init__(self, val=0, next=None):\n",
    "        self.val = val\n",
    "        self.next = next\n",
    "\n",
    "class Solution:\n",
    "    def addTwoNumbers(self, l1: Optional[ListNode], l2: Optional[ListNode]) -> Optional[ListNode]:\n",
    "        dummy = ListNode(0)\n",
    "        curr = dummy\n",
    "        carry = 0\n",
    "\n",
    "        while l1 or l2 or carry:\n",
    "            a1 = l1.val if l1 else 0\n",
    "            a2 = l2.val if l2 else 0\n",
    "            total = a1 + a2 + carry\n",
    "            carry = total // 10\n",
    "\n",
    "            # Update Linked list\n",
    "            curr.next = ListNode(val = total % 10)\n",
    "            curr = curr.next\n",
    "\n",
    "            # Update digit\n",
    "            if l1: l1 = l1.next\n",
    "            if l2: l2 = l2.next\n",
    "\n",
    "        return dummy.next"
   ]
  }
 ],
 "metadata": {
  "kernelspec": {
   "display_name": "base",
   "language": "python",
   "name": "python3"
  },
  "language_info": {
   "codemirror_mode": {
    "name": "ipython",
    "version": 3
   },
   "file_extension": ".py",
   "mimetype": "text/x-python",
   "name": "python",
   "nbconvert_exporter": "python",
   "pygments_lexer": "ipython3",
   "version": "3.13.5"
  }
 },
 "nbformat": 4,
 "nbformat_minor": 5
}
