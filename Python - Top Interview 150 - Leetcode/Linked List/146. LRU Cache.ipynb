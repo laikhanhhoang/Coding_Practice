{
 "cells": [
  {
   "cell_type": "markdown",
   "id": "7f71228b",
   "metadata": {},
   "source": [
    "Design a data structure that follows the constraints of a Least Recently Used (LRU) cache.\n",
    "\n",
    "Implement the LRUCache class:\n",
    "\n",
    "- LRUCache(int capacity) Initialize the LRU cache with positive size capacity.\n",
    "- int get(int key) Return the value of the key if the key exists, otherwise return -1.\n",
    "- void put(int key, int value) Update the value of the key if the key exists. Otherwise, add the key-value pair to the cache. If the number of keys exceeds the capacity from this operation, evict the least recently used key.\n",
    "\n",
    "The functions get and put must each run in O(1) average time complexity."
   ]
  },
  {
   "cell_type": "code",
   "execution_count": 2,
   "id": "a4a5e5f9",
   "metadata": {},
   "outputs": [],
   "source": [
    "\"\"\"\n",
    "Implementation:\n",
    "    dummy_oldest -> x[LRU] -> x[LRU-1] -> ... -> x[0] -> dummy_latest\n",
    "       (0,0)                                                (0,0)\n",
    "\n",
    "    x[i+1].nxt = x[i] = x[i-1].prv\n",
    "\"\"\"\n",
    "\n",
    "class Node:\n",
    "    def __init__(self, key, val):\n",
    "        self.key, self.val = key, val\n",
    "        self.prv, self.nxt = None, None\n",
    "\n",
    "class LRUCache:\n",
    "    def __init__(self, capacity: int):\n",
    "        self.cap, self.cache = capacity, {}\n",
    "\n",
    "        self.dummy_oldest, self.dummy_latest = Node(0,0), Node(0,0)\n",
    "        self.dummy_oldest.nxt = self.dummy_latest\n",
    "        self.dummy_latest.prv = self.dummy_oldest\n",
    "\n",
    "    def get(self, key: int) -> int:\n",
    "        if key in self.cache:\n",
    "            node = self.cache[key]\n",
    "            self.remove(node)\n",
    "            self.push_latest(node)\n",
    "            return node.val\n",
    "        else: return -1\n",
    "\n",
    "    def remove(self, node):\n",
    "        prev_node, after_node = node.prv, node.nxt\n",
    "        prev_node.nxt = after_node\n",
    "        after_node.prv = prev_node\n",
    "\n",
    "    def push_latest(self,node):\n",
    "        dummy, curr_latest = self.dummy_latest, self.dummy_latest.prv\n",
    "        dummy.prv, curr_latest.nxt = node, node\n",
    "        node.prv, node.nxt = curr_latest, dummy\n",
    "\n",
    "    def put(self, key: int, value: int) -> None:\n",
    "        if key in self.cache: self.remove(self.cache[key])\n",
    "        node = Node(key, value)\n",
    "        self.push_latest(node)\n",
    "        self.cache[key] = node\n",
    "\n",
    "        if len(self.cache) > self.cap:\n",
    "            LRU = self.dummy_oldest.nxt\n",
    "            self.remove(LRU)\n",
    "            del self.cache[LRU.key]"
   ]
  },
  {
   "cell_type": "code",
   "execution_count": null,
   "id": "588aec91",
   "metadata": {},
   "outputs": [],
   "source": []
  }
 ],
 "metadata": {
  "kernelspec": {
   "display_name": "base",
   "language": "python",
   "name": "python3"
  },
  "language_info": {
   "codemirror_mode": {
    "name": "ipython",
    "version": 3
   },
   "file_extension": ".py",
   "mimetype": "text/x-python",
   "name": "python",
   "nbconvert_exporter": "python",
   "pygments_lexer": "ipython3",
   "version": "3.13.5"
  }
 },
 "nbformat": 4,
 "nbformat_minor": 5
}
