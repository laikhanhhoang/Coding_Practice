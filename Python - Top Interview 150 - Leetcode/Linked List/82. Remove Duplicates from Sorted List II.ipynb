{
 "cells": [
  {
   "cell_type": "markdown",
   "id": "07a3ee90",
   "metadata": {},
   "source": [
    "Given the head of a sorted linked list, delete all nodes that have duplicate numbers, leaving only distinct numbers from the original list. Return the linked list sorted as well."
   ]
  },
  {
   "cell_type": "code",
   "execution_count": 1,
   "id": "70c33b37",
   "metadata": {},
   "outputs": [],
   "source": [
    "from typing import Optional\n",
    "# Definition for singly-linked list.\n",
    "class ListNode:\n",
    "    def __init__(self, val=0, next=None):\n",
    "        self.val = val\n",
    "        self.next = next\n",
    "\n",
    "class Solution:\n",
    "    def deleteDuplicates(self, head: Optional[ListNode]) -> Optional[ListNode]:\n",
    "        dummy = ListNode(0,head)\n",
    "        prev, last_ind_of_val, cnt = dummy, dummy.next, 1\n",
    "\n",
    "        while last_ind_of_val:\n",
    "            # Move to the last node of the current value and count its occurrences\n",
    "            while last_ind_of_val.next and last_ind_of_val.val == last_ind_of_val.next.val: \n",
    "                last_ind_of_val = last_ind_of_val.next\n",
    "                cnt += 1\n",
    "            \n",
    "            # If there is only one, update prev node\n",
    "            if cnt == 1: \n",
    "                prev.next = last_ind_of_val\n",
    "                prev = last_ind_of_val\n",
    "            \n",
    "            # New iteration\n",
    "            last_ind_of_val, cnt = last_ind_of_val.next, 1\n",
    "        \n",
    "        prev.next = last_ind_of_val\n",
    "        return dummy.next"
   ]
  }
 ],
 "metadata": {
  "kernelspec": {
   "display_name": "base",
   "language": "python",
   "name": "python3"
  },
  "language_info": {
   "codemirror_mode": {
    "name": "ipython",
    "version": 3
   },
   "file_extension": ".py",
   "mimetype": "text/x-python",
   "name": "python",
   "nbconvert_exporter": "python",
   "pygments_lexer": "ipython3",
   "version": "3.13.5"
  }
 },
 "nbformat": 4,
 "nbformat_minor": 5
}
