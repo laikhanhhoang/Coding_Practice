{
 "cells": [
  {
   "cell_type": "markdown",
   "id": "03be17a4",
   "metadata": {},
   "source": [
    "Given head, the head of a linked list, determine if the linked list has a cycle in it.\n",
    "\n",
    "There is a cycle in a linked list if there is some node in the list that can be reached again by continuously following the next pointer. Internally, pos is used to denote the index of the node that tail's next pointer is connected to. Note that pos is not passed as a parameter.\n",
    "\n",
    "Return true if there is a cycle in the linked list. Otherwise, return false."
   ]
  },
  {
   "cell_type": "code",
   "execution_count": 3,
   "id": "995d30e8",
   "metadata": {},
   "outputs": [],
   "source": [
    "# Definition for singly-linked list.\n",
    "class ListNode:\n",
    "    def __init__(self, x):\n",
    "        self.val = x\n",
    "        self.next = None"
   ]
  },
  {
   "cell_type": "markdown",
   "id": "4eb01909",
   "metadata": {},
   "source": [
    "# Solution 1"
   ]
  },
  {
   "cell_type": "code",
   "execution_count": 5,
   "id": "b2f36d2b",
   "metadata": {},
   "outputs": [],
   "source": [
    "from typing import Optional\n",
    "class Solution1:\n",
    "    def hasCycle(self, head: Optional[ListNode]) -> bool:\n",
    "        visited, curr = set(), head\n",
    "        while curr:\n",
    "            if curr in visited: return True\n",
    "            visited.add(curr)\n",
    "            curr = curr.next\n",
    "        return False"
   ]
  },
  {
   "cell_type": "markdown",
   "id": "05a6bd78",
   "metadata": {},
   "source": [
    "# Solution 2"
   ]
  },
  {
   "cell_type": "code",
   "execution_count": 6,
   "id": "a048f7e1",
   "metadata": {},
   "outputs": [],
   "source": [
    "class Solution2:\n",
    "    def hasCycle(self, head: Optional[ListNode]) -> bool:\n",
    "        step_1, step_2 = head, head\n",
    "        \n",
    "        while step_2 and step_2.next:\n",
    "            step_1, step_2 = step_1.next, step_2.next.next\n",
    "            if step_1 == step_2: return True\n",
    "\n",
    "        return False"
   ]
  }
 ],
 "metadata": {
  "kernelspec": {
   "display_name": "base",
   "language": "python",
   "name": "python3"
  },
  "language_info": {
   "codemirror_mode": {
    "name": "ipython",
    "version": 3
   },
   "file_extension": ".py",
   "mimetype": "text/x-python",
   "name": "python",
   "nbconvert_exporter": "python",
   "pygments_lexer": "ipython3",
   "version": "3.13.5"
  }
 },
 "nbformat": 4,
 "nbformat_minor": 5
}
