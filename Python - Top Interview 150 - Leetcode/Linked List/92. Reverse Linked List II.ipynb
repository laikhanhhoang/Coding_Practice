{
 "cells": [
  {
   "cell_type": "markdown",
   "id": "2c9d0337",
   "metadata": {},
   "source": [
    "Given the head of a singly linked list and two integers left and right where left <= right, reverse the nodes of the list from position left to position right, and return the reversed list."
   ]
  },
  {
   "cell_type": "code",
   "execution_count": 1,
   "id": "30eb93f7",
   "metadata": {},
   "outputs": [],
   "source": [
    "from typing import Optional\n",
    "\n",
    "# Definition for singly-linked list.\n",
    "class ListNode:\n",
    "    def __init__(self, val=0, next=None):\n",
    "        self.val = val\n",
    "        self.next = next\n",
    "\n",
    "class Solution:\n",
    "    def reverseBetween(self, head: Optional[ListNode], left: int, right: int) -> Optional[ListNode]:\n",
    "        if not head or left == right: return head\n",
    "        \n",
    "        dummy = ListNode(0, head)\n",
    "        prev_left = dummy\n",
    "        for _ in range(left-1): prev_left = prev_left.next\n",
    "\n",
    "        end = prev_left.next\n",
    "        for i in range(right-left):\n",
    "            end_next = end.next\n",
    "            end.next = end_next.next\n",
    "            end_next.next = prev_left.next\n",
    "            prev_left.next = end_next\n",
    "        \n",
    "        return dummy.next"
   ]
  }
 ],
 "metadata": {
  "kernelspec": {
   "display_name": "base",
   "language": "python",
   "name": "python3"
  },
  "language_info": {
   "codemirror_mode": {
    "name": "ipython",
    "version": 3
   },
   "file_extension": ".py",
   "mimetype": "text/x-python",
   "name": "python",
   "nbconvert_exporter": "python",
   "pygments_lexer": "ipython3",
   "version": "3.13.5"
  }
 },
 "nbformat": 4,
 "nbformat_minor": 5
}
