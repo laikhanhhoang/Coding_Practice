{
 "cells": [
  {
   "cell_type": "markdown",
   "id": "a8380c9a",
   "metadata": {},
   "source": [
    "Given the head of a linked list, rotate the list to the right by k places."
   ]
  },
  {
   "cell_type": "code",
   "execution_count": 1,
   "id": "ddee7bbe",
   "metadata": {},
   "outputs": [],
   "source": [
    "from typing import Optional\n",
    "\n",
    "# Definition for singly-linked list.\n",
    "class ListNode:\n",
    "    def __init__(self, val=0, next=None):\n",
    "        self.val = val\n",
    "        self.next = next\n",
    "class Solution:\n",
    "    def rotateRight(self, head: Optional[ListNode], k: int) -> Optional[ListNode]:\n",
    "        dummy = ListNode(0, head)\n",
    "        count, cnt = dummy, 0\n",
    "        \n",
    "        #Count the number of nodes in the list and calculate the effective k\n",
    "        #(rotate by length of list does nothing, so we take k modulo count)\n",
    "        while count.next: count, cnt = count.next, cnt+1\n",
    "        if not cnt or not k%cnt : return dummy.next\n",
    "        k %= cnt\n",
    "\n",
    "        # Move pointers and rewire nodes to rotate the list\n",
    "        prev, end = dummy, dummy\n",
    "        for _ in range(k): end = end.next\n",
    "        while end.next: prev, end = prev.next, end.next\n",
    "        temp = dummy.next\n",
    "        dummy.next = prev.next\n",
    "        prev.next = end.next\n",
    "        end.next = temp\n",
    "        return dummy.next"
   ]
  }
 ],
 "metadata": {
  "kernelspec": {
   "display_name": "base",
   "language": "python",
   "name": "python3"
  },
  "language_info": {
   "codemirror_mode": {
    "name": "ipython",
    "version": 3
   },
   "file_extension": ".py",
   "mimetype": "text/x-python",
   "name": "python",
   "nbconvert_exporter": "python",
   "pygments_lexer": "ipython3",
   "version": "3.13.5"
  }
 },
 "nbformat": 4,
 "nbformat_minor": 5
}
