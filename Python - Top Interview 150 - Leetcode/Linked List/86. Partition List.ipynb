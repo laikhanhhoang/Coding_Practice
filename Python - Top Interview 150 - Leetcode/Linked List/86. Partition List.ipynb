{
 "cells": [
  {
   "cell_type": "markdown",
   "id": "4e3d7688",
   "metadata": {},
   "source": [
    "Given the head of a linked list and a value x, partition it such that all nodes less than x come before nodes greater than or equal to x.\n",
    "\n",
    "You should preserve the original relative order of the nodes in each of the two partitions."
   ]
  },
  {
   "cell_type": "code",
   "execution_count": 1,
   "id": "e2b97918",
   "metadata": {},
   "outputs": [],
   "source": [
    "from typing import Optional\n",
    "\n",
    "# Definition for singly-linked list.\n",
    "class ListNode:\n",
    "    def __init__(self, val=0, next=None):\n",
    "        self.val = val\n",
    "        self.next = next\n",
    "\n",
    "class Solution:\n",
    "    def partition(self, head: Optional[ListNode], x: int) -> Optional[ListNode]:\n",
    "        dummy_less, dummy_more = ListNode(0), ListNode(0)\n",
    "        curr_less, curr_more = dummy_less, dummy_more\n",
    "\n",
    "        curr = head\n",
    "        while curr:\n",
    "            if curr.val < x:\n",
    "                curr_less.next = curr\n",
    "                curr_less = curr_less.next\n",
    "            else:\n",
    "                curr_more.next = curr\n",
    "                curr_more = curr_more.next\n",
    "            curr = curr.next\n",
    "\n",
    "        curr_more.next = curr      \n",
    "        curr_less.next = dummy_more.next\n",
    "        return dummy_less.next"
   ]
  }
 ],
 "metadata": {
  "kernelspec": {
   "display_name": "base",
   "language": "python",
   "name": "python3"
  },
  "language_info": {
   "codemirror_mode": {
    "name": "ipython",
    "version": 3
   },
   "file_extension": ".py",
   "mimetype": "text/x-python",
   "name": "python",
   "nbconvert_exporter": "python",
   "pygments_lexer": "ipython3",
   "version": "3.13.5"
  }
 },
 "nbformat": 4,
 "nbformat_minor": 5
}
