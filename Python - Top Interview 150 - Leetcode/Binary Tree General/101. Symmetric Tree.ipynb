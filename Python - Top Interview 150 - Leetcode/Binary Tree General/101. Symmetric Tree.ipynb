{
 "cells": [
  {
   "cell_type": "markdown",
   "id": "03223d26",
   "metadata": {},
   "source": [
    "Given the root of a binary tree, check whether it is a mirror of itself (i.e., symmetric around its center)."
   ]
  },
  {
   "cell_type": "code",
   "execution_count": 1,
   "id": "df5a16fe",
   "metadata": {},
   "outputs": [],
   "source": [
    "from typing import Optional\n",
    "\n",
    "# Definition for a binary tree node.\n",
    "class TreeNode:\n",
    "    def __init__(self, val=0, left=None, right=None):\n",
    "        self.val, self.left, self.right = val, left, right\n",
    "\n",
    "class Solution:\n",
    "    def isMirror(self, tree1: Optional[TreeNode], tree2: Optional[TreeNode])-> bool:\n",
    "        if not tree1 and not tree2: return True\n",
    "        if not tree1 or not tree2:  return False\n",
    "\n",
    "        return (tree1.val == tree2.val and self.isMirror(tree1.left, tree2.right) and self.isMirror(tree2.left, tree1.right))\n",
    "\n",
    "    def isSymmetric(self, root: Optional[TreeNode]) -> bool:\n",
    "        return self.isMirror(root.left, root.right)"
   ]
  }
 ],
 "metadata": {
  "kernelspec": {
   "display_name": "base",
   "language": "python",
   "name": "python3"
  },
  "language_info": {
   "codemirror_mode": {
    "name": "ipython",
    "version": 3
   },
   "file_extension": ".py",
   "mimetype": "text/x-python",
   "name": "python",
   "nbconvert_exporter": "python",
   "pygments_lexer": "ipython3",
   "version": "3.13.5"
  }
 },
 "nbformat": 4,
 "nbformat_minor": 5
}
