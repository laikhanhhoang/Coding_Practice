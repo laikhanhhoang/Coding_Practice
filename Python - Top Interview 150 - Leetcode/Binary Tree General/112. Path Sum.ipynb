{
 "cells": [
  {
   "cell_type": "markdown",
   "id": "488b4844",
   "metadata": {},
   "source": [
    "Given the root of a binary tree and an integer targetSum, return true if the tree has a root-to-leaf path such that adding up all the values along the path equals targetSum.\n",
    "\n",
    "A leaf is a node with no children."
   ]
  },
  {
   "cell_type": "code",
   "execution_count": 3,
   "id": "e9a20065",
   "metadata": {},
   "outputs": [],
   "source": [
    "from collections import deque\n",
    "from typing import Optional\n",
    "\n",
    "# Definition for a binary tree node.\n",
    "class TreeNode:\n",
    "    def __init__(self, val=0, left=None, right=None):\n",
    "        self.val = val\n",
    "        self.left = left\n",
    "        self.right = right"
   ]
  },
  {
   "cell_type": "markdown",
   "id": "d48c77e4",
   "metadata": {},
   "source": [
    "# My Solution (Beat 100%)"
   ]
  },
  {
   "cell_type": "code",
   "execution_count": 4,
   "id": "c1eb7d3a",
   "metadata": {},
   "outputs": [],
   "source": [
    "class Solution1:\n",
    "    def dfs_with_past_sum(self, node, past_sum, targetSum):\n",
    "        if not node: return False\n",
    "\n",
    "        if past_sum + node.val == targetSum and not node.left and not node.right: \n",
    "            return True\n",
    "        else:\n",
    "            return self.dfs_with_past_sum(node.left, past_sum + node.val, targetSum) or  \\\n",
    "                    self.dfs_with_past_sum(node.right, past_sum + node.val, targetSum)\n",
    "\n",
    "    def hasPathSum(self, root: Optional[TreeNode], targetSum: int) -> bool:\n",
    "        if not root: return False\n",
    "        return self.dfs_with_past_sum(root, 0, targetSum)"
   ]
  },
  {
   "cell_type": "markdown",
   "id": "0df1ca0e",
   "metadata": {},
   "source": [
    "# Solution 2 (using Stack)"
   ]
  },
  {
   "cell_type": "code",
   "execution_count": 6,
   "id": "f0969abb",
   "metadata": {},
   "outputs": [],
   "source": [
    "class Solution2:\n",
    "    def hasPathSum(self, root: Optional[TreeNode], targetSum: int) -> bool:\n",
    "        if not root: return False\n",
    "        \n",
    "        stack = deque([(root, root.val)])  \n",
    "        \n",
    "        while stack:\n",
    "            node, curr_sum = stack.pop()\n",
    "            \n",
    "            if not node.left and not node.right and curr_sum == targetSum:\n",
    "                return True\n",
    "            \n",
    "            if node.right: stack.append((node.right, curr_sum + node.right.val))\n",
    "            if node.left:  stack.append((node.left, curr_sum + node.left.val))\n",
    "        \n",
    "        return False"
   ]
  },
  {
   "cell_type": "markdown",
   "id": "3df4b5af",
   "metadata": {},
   "source": [
    "# Solution 3 (Trick remaining)"
   ]
  },
  {
   "cell_type": "code",
   "execution_count": 7,
   "id": "73ae8818",
   "metadata": {},
   "outputs": [],
   "source": [
    "class Solution3:\n",
    "    def hasPathSum(self, root: Optional[TreeNode], targetSum: int) -> bool:\n",
    "        if not root: return False\n",
    "        \n",
    "        # If node is leave\n",
    "        if not root.left and not root.right: return root.val == targetSum\n",
    "\n",
    "        # Subtract value of current node and continue DFS down\n",
    "        remaining = targetSum - root.val\n",
    "        return (self.hasPathSum(root.left, remaining) or self.hasPathSum(root.right, remaining))"
   ]
  }
 ],
 "metadata": {
  "kernelspec": {
   "display_name": "base",
   "language": "python",
   "name": "python3"
  },
  "language_info": {
   "codemirror_mode": {
    "name": "ipython",
    "version": 3
   },
   "file_extension": ".py",
   "mimetype": "text/x-python",
   "name": "python",
   "nbconvert_exporter": "python",
   "pygments_lexer": "ipython3",
   "version": "3.13.5"
  }
 },
 "nbformat": 4,
 "nbformat_minor": 5
}
