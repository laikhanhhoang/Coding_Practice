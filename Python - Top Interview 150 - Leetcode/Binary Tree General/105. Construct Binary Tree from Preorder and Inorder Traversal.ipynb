{
 "cells": [
  {
   "cell_type": "markdown",
   "id": "fa96f2ae",
   "metadata": {},
   "source": [
    "Given two integer arrays preorder and inorder where preorder is the preorder traversal of a binary tree and inorder is the inorder traversal of the same tree, construct and return the binary tree."
   ]
  },
  {
   "cell_type": "code",
   "execution_count": 3,
   "id": "b768328b",
   "metadata": {},
   "outputs": [],
   "source": [
    "from typing import List, Optional\n",
    "from collections import deque\n",
    "\n",
    "# Definition for a binary tree node.\n",
    "class TreeNode:\n",
    "    def __init__(self, val=0, left=None, right=None):\n",
    "        self.val = val\n",
    "        self.left = left\n",
    "        self.right = right"
   ]
  },
  {
   "cell_type": "markdown",
   "id": "db3c31f3",
   "metadata": {},
   "source": [
    "# Sol1: Complexity O($n^2$)"
   ]
  },
  {
   "cell_type": "code",
   "execution_count": null,
   "id": "e3d5b972",
   "metadata": {},
   "outputs": [],
   "source": [
    "class Solution1:\n",
    "    def build(self, preorder_queue, inorder) -> Optional[TreeNode]:\n",
    "        if inorder:\n",
    "            # Lấy phần tử đầu tiên trong preorder (gốc cây con)\n",
    "            root_val = preorder_queue.popleft()\n",
    "            idx = inorder.index(root_val)\n",
    "\n",
    "            # Tạo node gốc\n",
    "            root = TreeNode(root_val)\n",
    "\n",
    "            # Xây cây trái và phải dựa vào inorder\n",
    "            root.left  = self.build(preorder_queue, inorder[:idx])\n",
    "            root.right = self.build(preorder_queue, inorder[idx+1:])\n",
    "\n",
    "            return root  # ✅ Trả về node gốc\n",
    "\n",
    "    def buildTree(self, preorder: List[int], inorder: List[int]) -> Optional[TreeNode]:\n",
    "        preorder_queue = deque(preorder)\n",
    "        return self.build(preorder_queue, inorder)\n",
    "        "
   ]
  },
  {
   "cell_type": "markdown",
   "id": "f0e446c6",
   "metadata": {},
   "source": [
    "# Sol2: Conplexity O(n)"
   ]
  },
  {
   "cell_type": "code",
   "execution_count": 2,
   "id": "f66baf76",
   "metadata": {},
   "outputs": [],
   "source": [
    "class Solution2:\n",
    "    def build(self, preorder_deque, inorder_to_idx, start, end) -> Optional[TreeNode]:\n",
    "        if start > end: return None\n",
    "\n",
    "        value = preorder_deque.popleft()\n",
    "        root = TreeNode(value)\n",
    "\n",
    "        mid = inorder_to_idx[value]\n",
    "        root.left = self.build(preorder_deque, inorder_to_idx, start, mid-1)\n",
    "        root.right = self.build(preorder_deque, inorder_to_idx, mid+1, end)\n",
    "\n",
    "        return root\n",
    "\n",
    "    def buildTree(self, preorder: List[int], inorder: List[int]) -> Optional[TreeNode]:\n",
    "        preorder_deque = deque(preorder)\n",
    "        inorder_to_idx = {inorder[i]: i for i in range(len(inorder))}\n",
    "\n",
    "        return self.build(preorder_deque, inorder_to_idx, start = 0, end = len(inorder)-1)\n"
   ]
  }
 ],
 "metadata": {
  "kernelspec": {
   "display_name": "base",
   "language": "python",
   "name": "python3"
  },
  "language_info": {
   "codemirror_mode": {
    "name": "ipython",
    "version": 3
   },
   "file_extension": ".py",
   "mimetype": "text/x-python",
   "name": "python",
   "nbconvert_exporter": "python",
   "pygments_lexer": "ipython3",
   "version": "3.13.5"
  }
 },
 "nbformat": 4,
 "nbformat_minor": 5
}
