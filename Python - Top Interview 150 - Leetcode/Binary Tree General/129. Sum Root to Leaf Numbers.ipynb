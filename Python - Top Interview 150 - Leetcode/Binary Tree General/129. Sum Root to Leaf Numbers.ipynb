{
 "cells": [
  {
   "cell_type": "markdown",
   "id": "abccf667",
   "metadata": {},
   "source": [
    "You are given the root of a binary tree containing digits from 0 to 9 only.\n",
    "\n",
    "Each root-to-leaf path in the tree represents a number.\n",
    "\n",
    "- For example, the root-to-leaf path 1 -> 2 -> 3 represents the number 123.\n",
    "\n",
    "Return the total sum of all root-to-leaf numbers. Test cases are generated so that the answer will fit in a 32-bit integer.\n",
    "\n",
    "A leaf node is a node with no children."
   ]
  },
  {
   "cell_type": "code",
   "execution_count": 1,
   "id": "b7c1e11b",
   "metadata": {},
   "outputs": [],
   "source": [
    "from collections import deque\n",
    "from typing import Optional\n",
    "\n",
    "# Definition for a binary tree node.\n",
    "class TreeNode:\n",
    "    def __init__(self, val=0, left=None, right=None):\n",
    "        self.val = val\n",
    "        self.left = left\n",
    "        self.right = right\n",
    "\n",
    "class Solution:\n",
    "    def sumNumbers(self, root: Optional[TreeNode]) -> int:\n",
    "        all_nums_root_to_leaf, deque_tree = [], deque()\n",
    "\n",
    "        deque_tree.append((root, root.val))\n",
    "        while deque_tree:\n",
    "            node, current_sum = deque_tree.pop()\n",
    "\n",
    "            if node.right: deque_tree.append((node.right, current_sum*10 + node.right.val))\n",
    "            if node.left: deque_tree.append((node.left, current_sum*10 + node.left.val))\n",
    "            if not node.right and not node.left: all_nums_root_to_leaf.append(current_sum)\n",
    "        \n",
    "        return sum(all_nums_root_to_leaf)"
   ]
  }
 ],
 "metadata": {
  "kernelspec": {
   "display_name": "base",
   "language": "python",
   "name": "python3"
  },
  "language_info": {
   "codemirror_mode": {
    "name": "ipython",
    "version": 3
   },
   "file_extension": ".py",
   "mimetype": "text/x-python",
   "name": "python",
   "nbconvert_exporter": "python",
   "pygments_lexer": "ipython3",
   "version": "3.13.5"
  }
 },
 "nbformat": 4,
 "nbformat_minor": 5
}
