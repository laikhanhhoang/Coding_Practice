{
 "cells": [
  {
   "cell_type": "markdown",
   "id": "3cc2439f",
   "metadata": {},
   "source": [
    "Given the root of a binary tree, flatten the tree into a \"linked list\":\n",
    "\n",
    "- The \"linked list\" should use the same TreeNode class where the right child pointer points to the next node in the list and the left child pointer is always null.\n",
    "- The \"linked list\" should be in the same order as a pre-order traversal of the binary tree."
   ]
  },
  {
   "cell_type": "code",
   "execution_count": 2,
   "id": "d3e6dd67",
   "metadata": {},
   "outputs": [],
   "source": [
    "from collections import deque\n",
    "from typing import Optional\n",
    "\n",
    "# Definition for a binary tree node.\n",
    "class TreeNode:\n",
    "    def __init__(self, val=0, left=None, right=None):\n",
    "        self.val = val\n",
    "        self.left = left\n",
    "        self.right = right\n",
    "\n",
    "class Solution:\n",
    "    def flatten(self, root: Optional[TreeNode]) -> None:\n",
    "        if not root: return\n",
    "\n",
    "        preorder_nodes, stack = [], deque([root])\n",
    "\n",
    "        # Build preorder list\n",
    "        while stack:\n",
    "            node = stack.pop()\n",
    "            preorder_nodes.append(node)\n",
    "\n",
    "            # Push right first, left second → pop left first\n",
    "            if node.right: stack.append(node.right)\n",
    "            if node.left:  stack.append(node.left)\n",
    "\n",
    "        # Re-link nodes in-place\n",
    "        for i in range(len(preorder_nodes) - 1):\n",
    "            preorder_nodes[i].left, preorder_nodes[i].right = None, preorder_nodes[i + 1]\n",
    "\n",
    "        # Last node\n",
    "        preorder_nodes[-1].left, preorder_nodes[-1].right = None, None"
   ]
  }
 ],
 "metadata": {
  "kernelspec": {
   "display_name": "base",
   "language": "python",
   "name": "python3"
  },
  "language_info": {
   "codemirror_mode": {
    "name": "ipython",
    "version": 3
   },
   "file_extension": ".py",
   "mimetype": "text/x-python",
   "name": "python",
   "nbconvert_exporter": "python",
   "pygments_lexer": "ipython3",
   "version": "3.13.5"
  }
 },
 "nbformat": 4,
 "nbformat_minor": 5
}
