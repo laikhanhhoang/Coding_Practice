{
 "cells": [
  {
   "cell_type": "markdown",
   "id": "6fd4397d",
   "metadata": {},
   "source": [
    "Given two integer arrays inorder and postorder where inorder is the inorder traversal of a binary tree and postorder is the postorder traversal of the same tree, construct and return the binary tree."
   ]
  },
  {
   "cell_type": "code",
   "execution_count": 1,
   "id": "c38072ac",
   "metadata": {},
   "outputs": [],
   "source": [
    "from collections import deque\n",
    "from typing import List, Optional\n",
    "# Definition for a binary tree node.\n",
    "class TreeNode:\n",
    "    def __init__(self, val=0, left=None, right=None):\n",
    "        self.val = val\n",
    "        self.left = left\n",
    "        self.right = right\n",
    "\n",
    "class Solution:\n",
    "    def build(self, postorder_deque, inorder_to_idx, start, end) -> Optional[TreeNode]:\n",
    "        if start > end: return\n",
    "\n",
    "        value = postorder_deque.pop()\n",
    "        root = TreeNode(value)\n",
    "\n",
    "        mid = inorder_to_idx[value]\n",
    "        root.right = self.build(postorder_deque, inorder_to_idx, mid+1, end)\n",
    "        root.left = self.build(postorder_deque, inorder_to_idx, start, mid-1)\n",
    "        \n",
    "        return root\n",
    "\n",
    "\n",
    "    def buildTree(self, inorder: List[int], postorder: List[int]) -> Optional[TreeNode]:\n",
    "        postorder_deque, inorder_to_idx = deque(postorder), {inorder[i]: i for i in range(len(inorder))}\n",
    "        return self.build(postorder_deque, inorder_to_idx, start = 0, end = len(inorder)-1)"
   ]
  }
 ],
 "metadata": {
  "kernelspec": {
   "display_name": "base",
   "language": "python",
   "name": "python3"
  },
  "language_info": {
   "codemirror_mode": {
    "name": "ipython",
    "version": 3
   },
   "file_extension": ".py",
   "mimetype": "text/x-python",
   "name": "python",
   "nbconvert_exporter": "python",
   "pygments_lexer": "ipython3",
   "version": "3.13.5"
  }
 },
 "nbformat": 4,
 "nbformat_minor": 5
}
