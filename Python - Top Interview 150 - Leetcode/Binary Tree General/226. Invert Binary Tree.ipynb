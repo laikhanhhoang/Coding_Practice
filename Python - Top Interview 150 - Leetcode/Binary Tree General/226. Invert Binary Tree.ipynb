{
 "cells": [
  {
   "cell_type": "markdown",
   "id": "7b24228f",
   "metadata": {},
   "source": [
    "Given the root of a binary tree, invert the tree, and return its root."
   ]
  },
  {
   "cell_type": "code",
   "execution_count": 1,
   "id": "ce67e3ef",
   "metadata": {},
   "outputs": [],
   "source": [
    "from typing import Optional\n",
    "\n",
    "# Definition for a binary tree node.\n",
    "class TreeNode:\n",
    "    def __init__(self, val=0, left=None, right=None):\n",
    "        self.val, self.left, self.right = val, left, right\n",
    "\n",
    "class Solution:\n",
    "    def invertTree(self, root: Optional[TreeNode]) -> Optional[TreeNode]:\n",
    "        if not root: return\n",
    "\n",
    "        temp_L, temp_R = root.left, root.right\n",
    "        root.left, root.right = temp_R, temp_L\n",
    "        self.invertTree(root.left)\n",
    "        self.invertTree(root.right)\n",
    "        \n",
    "        return root"
   ]
  }
 ],
 "metadata": {
  "kernelspec": {
   "display_name": "base",
   "language": "python",
   "name": "python3"
  },
  "language_info": {
   "codemirror_mode": {
    "name": "ipython",
    "version": 3
   },
   "file_extension": ".py",
   "mimetype": "text/x-python",
   "name": "python",
   "nbconvert_exporter": "python",
   "pygments_lexer": "ipython3",
   "version": "3.13.5"
  }
 },
 "nbformat": 4,
 "nbformat_minor": 5
}
