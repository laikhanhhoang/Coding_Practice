{
 "cells": [
  {
   "cell_type": "markdown",
   "id": "63bb2e20",
   "metadata": {},
   "source": [
    "Implement the class that represents an iterator over the in-order traversal of a binary search tree (BST):BSTIterator\n",
    "\n",
    "- BSTIterator(TreeNode root) Initializes an object of the BSTIterator class. The root of the BST is given as part of the constructor. The pointer should be initialized to a non-existent number smaller than any element in the BST.\n",
    "\n",
    "- boolean hasNext() Returns true if there exists a number in the traversal to the right of the pointer, otherwise returns false.\n",
    "int next() Moves the pointer to the right, then returns the number at the pointer.\n",
    "\n",
    "- Notice that by initializing the pointer to a non-existent smallest number, the first call to next() will return the smallest element in the BST.\n",
    "\n",
    "You may assume that next() calls will always be valid. That is, there will be at least a next number in the in-order traversal when next() is called."
   ]
  },
  {
   "cell_type": "code",
   "execution_count": 1,
   "id": "2f21e529",
   "metadata": {},
   "outputs": [],
   "source": [
    "# Definition for a binary tree node.\n",
    "class TreeNode:\n",
    "    def __init__(self, val=0, left=None, right=None):\n",
    "        self.val = val\n",
    "        self.left = left\n",
    "        self.right = right"
   ]
  },
  {
   "cell_type": "markdown",
   "id": "c93bb8f6",
   "metadata": {},
   "source": [
    "# Cách lưu giá trị cây nhị phân dùng đệ quy"
   ]
  },
  {
   "cell_type": "code",
   "execution_count": 3,
   "id": "257b0654",
   "metadata": {},
   "outputs": [],
   "source": [
    "from typing import Optional\n",
    "class BSTIterator:\n",
    "\n",
    "    def __init__(self, root: Optional[TreeNode]):\n",
    "        self.values = []\n",
    "        self.curr = -1\n",
    "        self._in_order(root)\n",
    "    \n",
    "    def _in_order(self, r):\n",
    "        if not r:\n",
    "            return\n",
    "        self._in_order(r.left)\n",
    "        self.values.append(r.val)\n",
    "        self._in_order(r.right)\n",
    "\n",
    "    def next(self) -> int:\n",
    "        self.curr += 1\n",
    "        return self.values[self.curr]\n",
    "\n",
    "    def hasNext(self) -> bool:\n",
    "        return self.curr + 1 < len(self.values)"
   ]
  },
  {
   "cell_type": "markdown",
   "id": "8fc974a5",
   "metadata": {},
   "source": [
    "# Thuật toán Morris duyệt cây In-order"
   ]
  },
  {
   "cell_type": "code",
   "execution_count": 7,
   "id": "9fd800b5",
   "metadata": {},
   "outputs": [],
   "source": [
    "class BSTIterator:\n",
    "\n",
    "    def __init__(self, root: Optional[TreeNode]):\n",
    "        self.curr = TreeNode(right=root)\n",
    "\n",
    "    def next(self) -> int:\n",
    "        self._next_morris()\n",
    "        return self.curr.val\n",
    "\n",
    "    def hasNext(self) -> bool:\n",
    "        return self.curr.right is not None\n",
    "    \n",
    "    def _next_morris(self):\n",
    "        \"\"\"\n",
    "        Ý tưởng của thuật toán này là tận dụng các con trỏ phải rỗng của các nút trong cây để tạo các \"thread\" (con trỏ tạm thời)\n",
    "        đưa về nút cha, từ đó không cần dùng stack hay đệ quy để lưu trạng thái.\n",
    "        \"\"\"\n",
    "        self.curr = self.curr.right\n",
    "        while self.curr:\n",
    "            if not self.curr.left:\n",
    "                return self.curr\n",
    "            else:\n",
    "                left_subtree = self.curr.left\n",
    "                while left_subtree.right and left_subtree.right != self.curr: \n",
    "                                                    # Có thể đã tạo ở vòng lặp trước\n",
    "                                                    # phía dưới chỉ gỡ 1 thread (con trỏ tạm thời)\n",
    "                                                    # trong khi có thể đã có rất nhiều\n",
    "                    left_subtree = left_subtree.right\n",
    "                \n",
    "                if not left_subtree.right:\n",
    "                    left_subtree.right = self.curr\n",
    "                    self.curr = self.curr.left\n",
    "                else:\n",
    "                    left_subtree.right = None\n",
    "                    return self.curr"
   ]
  }
 ],
 "metadata": {
  "kernelspec": {
   "display_name": "base",
   "language": "python",
   "name": "python3"
  },
  "language_info": {
   "codemirror_mode": {
    "name": "ipython",
    "version": 3
   },
   "file_extension": ".py",
   "mimetype": "text/x-python",
   "name": "python",
   "nbconvert_exporter": "python",
   "pygments_lexer": "ipython3",
   "version": "3.13.5"
  }
 },
 "nbformat": 4,
 "nbformat_minor": 5
}
