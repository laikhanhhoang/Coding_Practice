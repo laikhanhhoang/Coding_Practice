{
 "cells": [
  {
   "cell_type": "markdown",
   "id": "b60de695",
   "metadata": {},
   "source": [
    "Given the root of a complete binary tree, return the number of the nodes in the tree.\n",
    "\n",
    "According to Wikipedia, every level, except possibly the last, is completely filled in a complete binary tree, and all nodes in the last level are as far left as possible. It can have between 1 and 2h nodes inclusive at the last level h.\n",
    "\n",
    "Design an algorithm that runs in less than O(n) time complexity."
   ]
  },
  {
   "cell_type": "code",
   "execution_count": 1,
   "id": "8179943d",
   "metadata": {},
   "outputs": [],
   "source": [
    "from typing import Optional\n",
    "\n",
    "# Definition for a binary tree node.\n",
    "class TreeNode:\n",
    "    def __init__(self, val=0, left=None, right=None):\n",
    "        self.val = val\n",
    "        self.left = left\n",
    "        self.right = right\n",
    "\n",
    "class Solution:\n",
    "    def countNodes(self, root: Optional[TreeNode]) -> int:\n",
    "        if not root: return 0\n",
    "\n",
    "        r = self.depth(root.left, True) + 1\n",
    "        l = self.depth(root.right, False) + 1\n",
    "        if r == l: return (1<<r) - 1\n",
    "\n",
    "        return 1 + self.countNodes(root.left) + self.countNodes(root.right)\n",
    "\n",
    "    def depth(self, node, is_left):\n",
    "        d, temp = 0, node\n",
    "        while temp: temp, d = temp.left if is_left else temp.right, d+1\n",
    "        \n",
    "        return d\n",
    "        "
   ]
  }
 ],
 "metadata": {
  "kernelspec": {
   "display_name": "base",
   "language": "python",
   "name": "python3"
  },
  "language_info": {
   "codemirror_mode": {
    "name": "ipython",
    "version": 3
   },
   "file_extension": ".py",
   "mimetype": "text/x-python",
   "name": "python",
   "nbconvert_exporter": "python",
   "pygments_lexer": "ipython3",
   "version": "3.13.5"
  }
 },
 "nbformat": 4,
 "nbformat_minor": 5
}
