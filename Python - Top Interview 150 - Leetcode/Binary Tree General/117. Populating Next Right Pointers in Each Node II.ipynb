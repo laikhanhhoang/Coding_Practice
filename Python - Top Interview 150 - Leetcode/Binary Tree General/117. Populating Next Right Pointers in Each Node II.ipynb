{
 "cells": [
  {
   "cell_type": "markdown",
   "id": "d600275c",
   "metadata": {},
   "source": [
    "Given a binary tree with \n",
    "struct Node {int val;\n",
    "  Node *left;\n",
    "  Node *right;\n",
    "  Node *next;}\n",
    "\n",
    "Populate each next pointer to point to its next right node. If there is no next right node, the next pointer should be set to NULL. Initially, all next pointers are set to NULL."
   ]
  },
  {
   "cell_type": "code",
   "execution_count": 1,
   "id": "4b379a65",
   "metadata": {},
   "outputs": [],
   "source": [
    "from collections import deque\n",
    "\n",
    "# Definition for a Node.\n",
    "class Node:\n",
    "    def __init__(self, val: int = 0, left: 'Node' = None, right: 'Node' = None, next: 'Node' = None):\n",
    "        self.val = val\n",
    "        self.left = left\n",
    "        self.right = right\n",
    "        self.next = next\n",
    "\n",
    "class Solution:\n",
    "    def connect(self, root: 'Node') -> 'Node':\n",
    "        if not root: return root\n",
    "\n",
    "        current_level_to_queue = deque([root])\n",
    "        \n",
    "        while current_level_to_queue:\n",
    "            size_current_level = len(current_level_to_queue)\n",
    "            \n",
    "            for i in range(size_current_level):\n",
    "                left = current_level_to_queue.popleft()\n",
    "\n",
    "                # Populate next pointer to point to its next right node\n",
    "                if i < size_current_level - 1: left.next = current_level_to_queue[0]\n",
    "\n",
    "                # Add nodes of the next level to the queue in left-to-right order\n",
    "                if left.left: current_level_to_queue.append(left.left)\n",
    "                if left.right: current_level_to_queue.append(left.right)\n",
    "        \n",
    "        return root"
   ]
  }
 ],
 "metadata": {
  "kernelspec": {
   "display_name": "base",
   "language": "python",
   "name": "python3"
  },
  "language_info": {
   "codemirror_mode": {
    "name": "ipython",
    "version": 3
   },
   "file_extension": ".py",
   "mimetype": "text/x-python",
   "name": "python",
   "nbconvert_exporter": "python",
   "pygments_lexer": "ipython3",
   "version": "3.13.5"
  }
 },
 "nbformat": 4,
 "nbformat_minor": 5
}
