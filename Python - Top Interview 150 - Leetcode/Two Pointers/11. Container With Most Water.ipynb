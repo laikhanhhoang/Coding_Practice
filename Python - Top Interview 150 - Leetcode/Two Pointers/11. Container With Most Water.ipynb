{
 "cells": [
  {
   "cell_type": "markdown",
   "id": "b6441497",
   "metadata": {},
   "source": [
    "You are given an integer array height of length n. There are n vertical lines drawn such that the two endpoints of the ith line are (i, 0) and (i, height[i]).\n",
    "\n",
    "Find two lines that together with the x-axis form a container, such that the container contains the most water.\n",
    "\n",
    "Return the maximum amount of water a container can store.\n",
    "\n",
    "Notice that you may not slant the container."
   ]
  },
  {
   "cell_type": "code",
   "execution_count": null,
   "id": "7cd34cd3",
   "metadata": {},
   "outputs": [],
   "source": [
    "from typing import List\n",
    "class Solution:\n",
    "    def maxArea(self, h: List[int]) -> int:\n",
    "        result, l, r = 0, 0, len(h)-1\n",
    "        while l < r:\n",
    "            if h[l] < h[r]:\n",
    "                result = max(result, (r-l) * h[l])\n",
    "                l += 1\n",
    "            else:\n",
    "                result = max(result, (r-l) * h[r])\n",
    "                r -= 1\n",
    "            # Gỉa sử h[l] < h[r]. \n",
    "            # Nếu thực sự tồn tại một (l', r') là con của (l,r) mà lớn hơn, thì l' # l (quan trọng)\n",
    "            # Vì nếu vẫn giữ l và thay đổi r, lúc này khoảng cách đã giảm và min(h[l],h[r']) <= h[l], r' < r\n",
    "            # -> (r-l) * min(h[l], h[r]) = (r-l) * h[l] > (r'-l)*h[l] >= (r'-l) * min(h[l], h[r]) -> diện tích giảm\n",
    "        return result"
   ]
  }
 ],
 "metadata": {
  "kernelspec": {
   "display_name": "base",
   "language": "python",
   "name": "python3"
  },
  "language_info": {
   "codemirror_mode": {
    "name": "ipython",
    "version": 3
   },
   "file_extension": ".py",
   "mimetype": "text/x-python",
   "name": "python",
   "nbconvert_exporter": "python",
   "pygments_lexer": "ipython3",
   "version": "3.13.5"
  }
 },
 "nbformat": 4,
 "nbformat_minor": 5
}
