{
 "cells": [
  {
   "cell_type": "markdown",
   "id": "548ea9b6",
   "metadata": {},
   "source": [
    "Given an integer array nums, return all the triplets [nums[i], nums[j], nums[k]] such that i != j, i != k, and j != k, and nums[i] + nums[j] + nums[k] == 0.\n",
    "\n",
    "Notice that the solution set must not contain duplicate triplets."
   ]
  },
  {
   "cell_type": "code",
   "execution_count": 2,
   "id": "e12460c2",
   "metadata": {},
   "outputs": [],
   "source": [
    "from typing import List\n",
    "class Solution:\n",
    "    def threeSum(self, n: List[int]) -> List[List[int]]:\n",
    "        n, res = sorted(n), []\n",
    "\n",
    "        for i in range(len(n)):\n",
    "            if i > 0 and n[i] == n[i-1]:\n",
    "                continue\n",
    "            \n",
    "            j,k = i+1, len(n) - 1\n",
    "\n",
    "            while j < k:\n",
    "                total = n[i] + n[j] + n[k]\n",
    "                if total > 0:\n",
    "                    k -= 1\n",
    "                elif total < 0:\n",
    "                    j += 1\n",
    "                else:\n",
    "                    res.append([n[i], n[j], n[k]])\n",
    "                    j += 1\n",
    "                    while n[j] == n[j-1] and j<k:\n",
    "                        j+=1\n",
    "    \n",
    "        return res"
   ]
  },
  {
   "cell_type": "code",
   "execution_count": null,
   "id": "fe6524a2",
   "metadata": {},
   "outputs": [],
   "source": []
  }
 ],
 "metadata": {
  "kernelspec": {
   "display_name": "base",
   "language": "python",
   "name": "python3"
  },
  "language_info": {
   "codemirror_mode": {
    "name": "ipython",
    "version": 3
   },
   "file_extension": ".py",
   "mimetype": "text/x-python",
   "name": "python",
   "nbconvert_exporter": "python",
   "pygments_lexer": "ipython3",
   "version": "3.13.5"
  }
 },
 "nbformat": 4,
 "nbformat_minor": 5
}
