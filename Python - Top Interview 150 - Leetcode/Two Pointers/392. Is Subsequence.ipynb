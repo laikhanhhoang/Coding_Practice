{
 "cells": [
  {
   "cell_type": "markdown",
   "id": "24bad438",
   "metadata": {},
   "source": [
    "Given two strings s and t, return true if s is a subsequence of t, or false otherwise.\n",
    "\n",
    "A subsequence of a string is a new string that is formed from the original string by deleting some (can be none) of the characters without disturbing the relative positions of the remaining characters. (i.e., \"ace\" is a subsequence of \"abcde\" while \"aec\" is not)."
   ]
  },
  {
   "cell_type": "markdown",
   "id": "2da13de3",
   "metadata": {},
   "source": [
    "# Tự code"
   ]
  },
  {
   "cell_type": "code",
   "execution_count": 1,
   "id": "883741c6",
   "metadata": {},
   "outputs": [],
   "source": [
    "class Solution:\n",
    "    def isSubsequence(self, s: str, t: str) -> bool:\n",
    "        n, m = len(s)-1, len(t)\n",
    "        for i in range(m-1, -1, -1):\n",
    "            if n < 0:\n",
    "                return True\n",
    "            elif t[i] == s[n]:\n",
    "                n -= 1\n",
    "        \n",
    "        return (n<0)"
   ]
  }
 ],
 "metadata": {
  "kernelspec": {
   "display_name": "base",
   "language": "python",
   "name": "python3"
  },
  "language_info": {
   "codemirror_mode": {
    "name": "ipython",
    "version": 3
   },
   "file_extension": ".py",
   "mimetype": "text/x-python",
   "name": "python",
   "nbconvert_exporter": "python",
   "pygments_lexer": "ipython3",
   "version": "3.13.5"
  }
 },
 "nbformat": 4,
 "nbformat_minor": 5
}
