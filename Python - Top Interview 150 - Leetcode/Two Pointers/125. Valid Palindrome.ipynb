{
 "cells": [
  {
   "cell_type": "markdown",
   "id": "8c7e15b0",
   "metadata": {},
   "source": [
    "A phrase is a palindrome if, after converting all uppercase letters into lowercase letters and removing all non-alphanumeric characters, it reads the same forward and backward. Alphanumeric characters include letters and numbers.\n",
    "\n",
    "Given a string s, return true if it is a palindrome, or false otherwise."
   ]
  },
  {
   "cell_type": "markdown",
   "id": "a9dc74a3",
   "metadata": {},
   "source": [
    "# Tự code"
   ]
  },
  {
   "cell_type": "code",
   "execution_count": 2,
   "id": "8e2b0025",
   "metadata": {},
   "outputs": [],
   "source": [
    "class Solution:\n",
    "    def isPalindrome(self, s: str) -> bool:\n",
    "        trans = []\n",
    "        for ch in s:\n",
    "            o = ord(ch)\n",
    "            if 47 < o < 58 or 96 < o < 123:  \n",
    "                trans.append(o)\n",
    "            elif 64 < o < 91:  \n",
    "                trans.append(o + 32)  \n",
    "        \n",
    "        m = len(trans)\n",
    "        for i in range(m // 2):\n",
    "            if trans[i] != trans[m - 1 - i]:\n",
    "                return False\n",
    "        \n",
    "        return True"
   ]
  },
  {
   "cell_type": "markdown",
   "id": "09ac496a",
   "metadata": {},
   "source": [
    "# Dùng thư viện"
   ]
  },
  {
   "cell_type": "code",
   "execution_count": 1,
   "id": "23712ef1",
   "metadata": {},
   "outputs": [],
   "source": [
    "class Solution:\n",
    "    def isPalindrome(self, s: str) -> bool:\n",
    "        trans=\"\".join(ch.lower() for ch in s if ch.isalnum())\n",
    "        return (trans == trans[::-1])"
   ]
  }
 ],
 "metadata": {
  "kernelspec": {
   "display_name": "base",
   "language": "python",
   "name": "python3"
  },
  "language_info": {
   "codemirror_mode": {
    "name": "ipython",
    "version": 3
   },
   "file_extension": ".py",
   "mimetype": "text/x-python",
   "name": "python",
   "nbconvert_exporter": "python",
   "pygments_lexer": "ipython3",
   "version": "3.13.5"
  }
 },
 "nbformat": 4,
 "nbformat_minor": 5
}
