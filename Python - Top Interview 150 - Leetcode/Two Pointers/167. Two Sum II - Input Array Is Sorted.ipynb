{
 "cells": [
  {
   "cell_type": "markdown",
   "id": "6e9a0ede",
   "metadata": {},
   "source": [
    "Given a 1-indexed array of integers numbers that is already sorted in non-decreasing order, find two numbers such that they add up to a specific target number. Let these two numbers be numbers[index1] and numbers[index2] where 1 <= index1 < index2 <= numbers.length.\n",
    "\n",
    "Return the indices of the two numbers, index1 and index2, added by one as an integer array [index1, index2] of length 2.\n",
    "\n",
    "The tests are generated such that there is exactly one solution. You may not use the same element twice.\n",
    "\n",
    "Your solution must use only constant extra space."
   ]
  },
  {
   "cell_type": "markdown",
   "id": "78ec4076",
   "metadata": {},
   "source": [
    "# Tự code (Độ phức tạp O(n*log(n)))"
   ]
  },
  {
   "cell_type": "code",
   "execution_count": 6,
   "id": "5dd9e0b7",
   "metadata": {},
   "outputs": [],
   "source": [
    "from typing import List\n",
    "class Solution:\n",
    "    def twoSum(self, numbers: List[int], target: int) -> List[int]:\n",
    "        n = len(numbers)\n",
    "        for i in range(n):\n",
    "            k = self.bs(numbers, i+1, target-numbers[i])\n",
    "            if k != -1:\n",
    "                return [i+1,k+1]\n",
    "\n",
    "    def bs(self, arr, left, value):\n",
    "        res, l, r = -1, left, len(arr) - 1\n",
    "        while l <= r:\n",
    "            mean = (l+r)//2\n",
    "            if arr[mean] == value:\n",
    "                res = mean\n",
    "                break\n",
    "            elif arr[mean] > value:\n",
    "                r = mean-1\n",
    "            else:\n",
    "                l = mean+1\n",
    "        return res"
   ]
  },
  {
   "cell_type": "markdown",
   "id": "b8ff6f0b",
   "metadata": {},
   "source": [
    "# Tham khảo (2 con trỏ - Độ phức tạp O(n))"
   ]
  },
  {
   "cell_type": "code",
   "execution_count": 5,
   "id": "5e6cafac",
   "metadata": {},
   "outputs": [],
   "source": [
    "from typing import List\n",
    "class Solution:\n",
    "    def twoSum(self, nums: List[int], target: int) -> List[int]:\n",
    "        l, r = 0, len(nums) - 1\n",
    "        while l <= r:\n",
    "            sum = nums[l] + nums[r]\n",
    "            if sum == target:\n",
    "                return [l+1, r+1]\n",
    "            elif sum > target:\n",
    "                r -= 1\n",
    "            elif sum < target:\n",
    "                l += 1"
   ]
  }
 ],
 "metadata": {
  "kernelspec": {
   "display_name": "base",
   "language": "python",
   "name": "python3"
  },
  "language_info": {
   "codemirror_mode": {
    "name": "ipython",
    "version": 3
   },
   "file_extension": ".py",
   "mimetype": "text/x-python",
   "name": "python",
   "nbconvert_exporter": "python",
   "pygments_lexer": "ipython3",
   "version": "3.13.5"
  }
 },
 "nbformat": 4,
 "nbformat_minor": 5
}
